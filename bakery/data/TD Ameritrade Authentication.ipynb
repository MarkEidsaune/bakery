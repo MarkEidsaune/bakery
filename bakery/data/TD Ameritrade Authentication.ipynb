{
 "cells": [
  {
   "cell_type": "markdown",
   "metadata": {},
   "source": [
    "# TD Ameritrade API  \n",
    "## Authentication  \n",
    "https://developer.tdameritrade.com/apis  \n",
    "https://github.com/alexgolec/tda-api/tree/b4e9433ee19927f6a8d1b397bcc6099d4abf9c94"
   ]
  },
  {
   "cell_type": "markdown",
   "metadata": {},
   "source": [
    "Install modules"
   ]
  },
  {
   "cell_type": "code",
   "execution_count": 10,
   "metadata": {},
   "outputs": [],
   "source": [
    "import sys\n",
    "# !{sys.executable} -m pip install "
   ]
  },
  {
   "cell_type": "markdown",
   "metadata": {},
   "source": [
    "Load modules"
   ]
  },
  {
   "cell_type": "code",
   "execution_count": 1,
   "metadata": {},
   "outputs": [],
   "source": [
    "import os\n",
    "import requests\n",
    "import json\n",
    "import time\n",
    "from datetime import datetime, timedelta\n",
    "import urllib\n",
    "from selenium import webdriver\n",
    "from authlib.integrations.requests_client import OAuth2Session, OAuth2Auth\n",
    "import websockets.legacy.client as ws_client\n",
    "import inspect\n",
    "import asyncio\n",
    "from enum import Enum\n",
    "from collections import defaultdict, deque\n",
    "import copy"
   ]
  },
  {
   "cell_type": "markdown",
   "metadata": {},
   "source": [
    "Set project base path"
   ]
  },
  {
   "cell_type": "code",
   "execution_count": 4,
   "metadata": {},
   "outputs": [
    {
     "name": "stdout",
     "output_type": "stream",
     "text": [
      "/home/mark/bakery\n"
     ]
    }
   ],
   "source": [
    "base_path = os.path.join(os.path.expanduser('~'), 'bakery')\n",
    "creds_path = os.path.join(base_path, 'td_ameritrade/creds.json')\n",
    "token_path = os.path.join(base_path, 'td_ameritrade/tokens.json')\n",
    "print(base_path)"
   ]
  },
  {
   "cell_type": "markdown",
   "metadata": {},
   "source": [
    "Load credential file"
   ]
  },
  {
   "cell_type": "code",
   "execution_count": 5,
   "metadata": {},
   "outputs": [],
   "source": [
    "with open(creds_path, 'rb') as f:\n",
    "    data = f.read()\n",
    "    creds = json.loads(data.decode())"
   ]
  },
  {
   "cell_type": "code",
   "execution_count": 6,
   "metadata": {},
   "outputs": [
    {
     "data": {
      "text/plain": [
       "{'username': 'markeidsaune',\n",
       " 'password': 'XeZtMV6q4Uof',\n",
       " 'dev_username': 'markeidsaune@gmail.com',\n",
       " 'dev_password': 'cV*H11&y3Rrm',\n",
       " 'api_key': 'FMNMNUOPZ1FMWCJ4CH1EPQONALLUYM9T',\n",
       " 'redirect_uri': 'https://localhost',\n",
       " 'account_no': '455146202'}"
      ]
     },
     "execution_count": 6,
     "metadata": {},
     "output_type": "execute_result"
    }
   ],
   "source": [
    "creds"
   ]
  },
  {
   "cell_type": "markdown",
   "metadata": {},
   "source": [
    "##### Get token  \n",
    "Webdriver workflow"
   ]
  },
  {
   "cell_type": "markdown",
   "metadata": {},
   "source": [
    "Create OAuth2 client"
   ]
  },
  {
   "cell_type": "code",
   "execution_count": null,
   "metadata": {},
   "outputs": [],
   "source": [
    "client_id = creds['api_key'] + '@AMER.OAUTHAP'\n",
    "client_secret = creds['password']\n",
    "token_endpoint = 'https://api.tdameritrade.com/v1/oauth2/token'\n",
    "redirect_uri = creds['redirect_uri']\n",
    "\n",
    "client = OAuth2Session(\n",
    "    client_id=client_id, \n",
    "    client_secret=client_secret,\n",
    "    token_endpoint=token_endpoint,\n",
    "    redirect_uri=redirect_uri\n",
    ")"
   ]
  },
  {
   "cell_type": "markdown",
   "metadata": {},
   "source": [
    "Get authorization url"
   ]
  },
  {
   "cell_type": "code",
   "execution_count": null,
   "metadata": {},
   "outputs": [],
   "source": [
    "uri, state = client.create_authorization_url(\n",
    "    url='https://auth.tdameritrade.com/auth'\n",
    ")"
   ]
  },
  {
   "cell_type": "markdown",
   "metadata": {},
   "source": [
    "Create browser object"
   ]
  },
  {
   "cell_type": "code",
   "execution_count": null,
   "metadata": {},
   "outputs": [],
   "source": [
    "driver = webdriver.Firefox()\n",
    "driver.get(uri)"
   ]
  },
  {
   "cell_type": "markdown",
   "metadata": {},
   "source": [
    "Wait until current url starts with the redirect_url"
   ]
  },
  {
   "cell_type": "code",
   "execution_count": null,
   "metadata": {},
   "outputs": [],
   "source": [
    "current_url = ''\n",
    "num_waits = 0\n",
    "max_waits = 3000\n",
    "wait_time = 0.1\n",
    "\n",
    "while not current_url.startswith(redirect_uri):\n",
    "    current_url = driver.current_url\n",
    "    \n",
    "    if num_waits > max_waits:\n",
    "        raise RedirectTimeoutError('Timed out waiting for redirect')\n",
    "    \n",
    "    time.sleep(wait_time)\n",
    "    \n",
    "    num_waits += 1"
   ]
  },
  {
   "cell_type": "markdown",
   "metadata": {},
   "source": [
    "Call the fetch_token method w/ access_type='offline' to get an access token and refresh token"
   ]
  },
  {
   "cell_type": "code",
   "execution_count": null,
   "metadata": {},
   "outputs": [],
   "source": [
    "token = client.fetch_token(\n",
    "    authorization_response=current_url,\n",
    "    access_type='offline'\n",
    ")"
   ]
  },
  {
   "cell_type": "code",
   "execution_count": null,
   "metadata": {},
   "outputs": [],
   "source": [
    "with open(token_path, 'w') as f:\n",
    "    json.dump(token, f)"
   ]
  },
  {
   "cell_type": "code",
   "execution_count": null,
   "metadata": {},
   "outputs": [],
   "source": [
    "print(\n",
    "    'Token expires in {} minutes'.format(\n",
    "        token['expires_in'] / 60\n",
    "    )\n",
    ")\n",
    "print(\n",
    "    'Token expires @ {}'.format(\n",
    "        datetime.fromtimestamp(token['expires_at'])\n",
    "    )\n",
    ")"
   ]
  },
  {
   "cell_type": "code",
   "execution_count": null,
   "metadata": {},
   "outputs": [],
   "source": [
    "print(\n",
    "    'Refresh token expires in {} days'.format(\n",
    "        token['refresh_token_expires_in'] / 60 / 60 / 24\n",
    "    )\n",
    ")\n",
    "print(\n",
    "    'Refresh token expires @ {}'.format(\n",
    "    datetime.fromtimestamp(token['expires_at']) - timedelta(minutes=30) + timedelta(days=90)\n",
    "    )\n",
    ")"
   ]
  },
  {
   "cell_type": "markdown",
   "metadata": {},
   "source": [
    "##### Get token  \n",
    "with refresh token"
   ]
  },
  {
   "cell_type": "markdown",
   "metadata": {},
   "source": [
    "Read current token file"
   ]
  },
  {
   "cell_type": "markdown",
   "metadata": {},
   "source": [
    "with open(token_path, 'rb') as f:\n",
    "    data = f.read()\n",
    "    token = json.loads(data.decode())"
   ]
  },
  {
   "cell_type": "code",
   "execution_count": 6,
   "metadata": {},
   "outputs": [
    {
     "name": "stdout",
     "output_type": "stream",
     "text": [
      "Token expired? True\tRefresh token expired? False\n"
     ]
    }
   ],
   "source": [
    "current_dttm = datetime.now()\n",
    "\n",
    "is_token_expired = (datetime.fromtimestamp(token['expires_at'])) \\\n",
    "    < current_dttm\n",
    "is_refresh_token_expired = (datetime.fromtimestamp(token['expires_at']) \\\n",
    "        - timedelta(seconds=token['expires_in']) \\\n",
    "        + timedelta(seconds=token['refresh_token_expires_in'])) \\\n",
    "    < current_dttm\n",
    "\n",
    "print('Token expired? {}\\tRefresh token expired? {}'.format(\n",
    "    is_token_expired, is_refresh_token_expired\n",
    "    )\n",
    ")"
   ]
  },
  {
   "cell_type": "code",
   "execution_count": 7,
   "metadata": {},
   "outputs": [],
   "source": [
    "client_id = creds['api_key'] + '@AMER.OAUTHAP'\n",
    "client_secret = creds['password']\n",
    "token_endpoint = 'https://api.tdameritrade.com/v1/oauth2/token'\n",
    "redirect_uri = creds['redirect_uri']\n",
    "refresh_token = token['refresh_token']\n",
    "\n",
    "client = OAuth2Session(\n",
    "    client_id=client_id, \n",
    "    client_secret=client_secret,\n",
    "    token_endpoint=token_endpoint,\n",
    "    redirect_uri=redirect_uri\n",
    ")"
   ]
  },
  {
   "cell_type": "code",
   "execution_count": 8,
   "metadata": {},
   "outputs": [
    {
     "data": {
      "text/plain": [
       "{'access_token': 'ZVGmXFCC4tIGUaq/dlD2aemktXb9k+SQtO5S7WQIQlFysY5GqdO18w/Mras0kc4DbV94+z4doQWYQPRggSJEsYzGglmXG2nTi3Jd0shq9oMkajAPdAFwRDiFkOHF9LjTeGGPMdZOZvhk9Qv8eDiULjXY1xy8AJv8qqMVrDPQhD5AqWmMLdxkGW2Yk38lr7zLUHHVvkLhFMvLZ32TG15mxyRHHiyQUOgeyfX7nfQrHfc4IX6ogemVCYHSPHDS9RFYqBWsyBzW8SeKqYlXwhcrCzZCoXrQ3hi3EPH3KHBX+/tNU4sjvjLf5XU5FhP6KA0fb/6mIOIJHWtN6R28Gh5b+rSq1Xz8i2WONw4eMazIhj17surncJiRWsI/RO9SXjbkCKIru2/Gngaf9bPHaE95Rnee3BAgItEjK9Tk1ncnKk6K4gkOEJzccQejvOMSxtaR0MLx1RZG13mjfAKaKsd0U4w6supAykg6n6W4qnZIGdNNZHqkD3livHhDttzf6VOrBEI9MALjNHn0WbHGvzZUdh0+bEV+1lxvgShtKXvnoNhNOxjKy100MQuG4LYrgoVi/JHHvl70XjMQBtJaMVowutMSp6DpcJASzy2E5eSqg6Rm+xNcNAwqVlSANmFBW9U0E8zUs+AzK7gTsBxcgO9PE/j9mJgRK3rhRKMEzVQPKmLmYxytGl5dAhkXVFUfuUirQVUdldFlvz5wdLiVpPtJxC4vll9hZBPOC4Ht2f7P2Gstbo+H6eLphGpP9ewUhxAUDDEAAJq2y2y18ixmKiMxnX1YQ7ZI6UaWyb7wV7mT8rUP4Vk7Nq1aMwuY0DG0HM/1ib9Rqd4eCr4eB+DOhQ2pTgWECYWZI8CkUxruZ8FN2g+9KjDglwUXx6DBThHVTGpcO/Tn9aIurXfItQ6cRCaVUEHlJrmMSnZHEvyAcixtZijk4h44gUqXh9xCWwnefOhKY52QH6hH+xzE6JrJu62OcJ2smmD1QN8rV4ONlO/WH0Re00VhUVAUv0tJv7B42MCSKYErFumdqZTQiO2S97cqDxT3W6Ns5b27rXNtgpVwCiD70tv0Nh19+1lz+gTRrUWjq0iGHAfahVYF+Yb7+YMaS20roUF325dsBBP1rNNcNoyJm8RpyIcpfw==212FD3x19z9sWBHDJACbC00B75E',\n",
       " 'refresh_token': 'b/aFH71u1cJIaBfwrAWJFELC3tWzdYAbJd6n0yOfjVSvk9Ux7JN0S7x1cIv6BjRam64KE29vO0yx6+LuVCxQ8IdYYm58hyP/PU33XokkrR8IytTb9O4iW9uhPxLVofdx6hwJ+ITC9ZAiukDn9ttTyirKOqH07JkuCMCE+htpCxm8rEGb7PhMA+nCAqYZtDjZ7n8WpKEA0xaTKZyc9fkkhkby38VY6WA60uJmLCavgYohJnSy2cotB8e8kKFxH5zhufZXzGT/3emjMtMONK0jEwA5D75PUOc9r46Cw68DrFT+tUehIQG/+fYzdAXXaYbPLczWrl9lSeGPZTOq43M9bPwr6qLvZ6FjaPcG+1xbUNl3tEUbuQdfyWtSNzKDGNcwtw3sS4IgDOQBD4A/1MklbwLKz0fBk7o3jUu5GUSD8Se2jSrvEjk/ad99SVM100MQuG4LYrgoVi/JHHvlnrpCiWiaDR9umzrQeh2ClP71ZWmi9fBqY7vsLaTQmTaW6NedsoKUq1UdKyw0g3puu+5QT/qb5FjHeC6ZjLf0ODJY/c7TUnecxiCgluIJ8fua8A4zSL1tkQ7OrLLC+BdREC7ImPIaRyDHDUoW6ZOKhh2YKLmxLnPbRro2ZBwfe+MLeHQQQEAmclGzdpQKrcGGCCkTLAY6QQ2rYiZF8oaDgXGVoJH36AC/XJoKFvKQAzkZ/1jejKDOpOpC/nGmjXC2PxqyWQub6c5XRFW4h7vlivac5U4c4KaXu4hz8pzdfNbYYpWt8/JSzuptVz+xiGXBsIqKz/szXVawja+Z7s/6M2+J/j24lR1ZAmACz1gBUEFmU2p3Exx7HysvLLMoqMg0ekQkPoFI1N2ItwXEZ9E9EteF0dvWNUlXFsjsTaceGtnWxJTrC+hDysD54pI=212FD3x19z9sWBHDJACbC00B75E',\n",
       " 'scope': 'PlaceTrades AccountAccess MoveMoney',\n",
       " 'expires_in': 1800,\n",
       " 'refresh_token_expires_in': 7776000,\n",
       " 'token_type': 'Bearer',\n",
       " 'expires_at': 1652748912}"
      ]
     },
     "execution_count": 8,
     "metadata": {},
     "output_type": "execute_result"
    }
   ],
   "source": [
    "new_token = client.fetch_token(\n",
    "    token_endpoint,\n",
    "    grant_type='refresh_token',\n",
    "    refresh_token=token['refresh_token'],\n",
    "    access_type='offline'\n",
    ")\n",
    "new_token"
   ]
  },
  {
   "cell_type": "code",
   "execution_count": 9,
   "metadata": {},
   "outputs": [],
   "source": [
    "with open(token_path, 'w') as f:\n",
    "    json.dump(new_token, f)"
   ]
  },
  {
   "cell_type": "code",
   "execution_count": 10,
   "metadata": {},
   "outputs": [],
   "source": [
    "with open(token_path, 'rb') as f:\n",
    "    data = f.read()\n",
    "    token = json.loads(data.decode())"
   ]
  },
  {
   "cell_type": "markdown",
   "metadata": {},
   "source": [
    "##### Get user principles"
   ]
  },
  {
   "cell_type": "code",
   "execution_count": 11,
   "metadata": {},
   "outputs": [],
   "source": [
    "auth = OAuth2Auth(token)\n",
    "payload = {'fields': 'streamerSubscriptionKeys,streamerConnectionInfo,preferences'}\n",
    "r = requests.get(\n",
    "    'https://api.tdameritrade.com/v1/userprincipals',\n",
    "    auth=auth,\n",
    "    params=payload\n",
    ")"
   ]
  },
  {
   "cell_type": "code",
   "execution_count": 12,
   "metadata": {},
   "outputs": [],
   "source": [
    "principals = r.json()"
   ]
  }
 ],
 "metadata": {
  "kernelspec": {
   "display_name": "Python 3 (ipykernel)",
   "language": "python",
   "name": "python3"
  },
  "language_info": {
   "codemirror_mode": {
    "name": "ipython",
    "version": 3
   },
   "file_extension": ".py",
   "mimetype": "text/x-python",
   "name": "python",
   "nbconvert_exporter": "python",
   "pygments_lexer": "ipython3",
   "version": "3.8.10"
  }
 },
 "nbformat": 4,
 "nbformat_minor": 4
}
