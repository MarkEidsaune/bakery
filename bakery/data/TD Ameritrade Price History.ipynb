{
 "cells": [
  {
   "cell_type": "markdown",
   "id": "a6426210",
   "metadata": {},
   "source": [
    "# TD Ameritrade API  \n",
    "## Price History and Search Instruments"
   ]
  },
  {
   "cell_type": "markdown",
   "id": "18075ce7",
   "metadata": {},
   "source": [
    "Install modules"
   ]
  },
  {
   "cell_type": "code",
   "execution_count": 125,
   "id": "bad0695b",
   "metadata": {},
   "outputs": [],
   "source": [
    "import sys\n",
    "# !{sys.executable} -m pip install"
   ]
  },
  {
   "cell_type": "markdown",
   "id": "fd834c24",
   "metadata": {},
   "source": [
    "Load modules"
   ]
  },
  {
   "cell_type": "code",
   "execution_count": 126,
   "id": "18c17a65",
   "metadata": {},
   "outputs": [],
   "source": [
    "from auth import TDClient"
   ]
  },
  {
   "cell_type": "code",
   "execution_count": 127,
   "id": "4094d302",
   "metadata": {},
   "outputs": [],
   "source": [
    "import os\n",
    "import requests\n",
    "import json\n",
    "import pandas as pd\n",
    "import numpy as np\n",
    "from tqdm import tqdm\n",
    "import time\n",
    "from datetime import datetime, date, timedelta\n",
    "from cassandra.cluster import Cluster"
   ]
  },
  {
   "cell_type": "markdown",
   "id": "9391a005",
   "metadata": {},
   "source": [
    "Set project directory and paths to credentials and tokens files"
   ]
  },
  {
   "cell_type": "code",
   "execution_count": 128,
   "id": "ed3d0bf0",
   "metadata": {},
   "outputs": [],
   "source": [
    "base_path = os.path.join(os.path.expanduser('~'), 'bakery')\n",
    "creds_path = os.path.join(base_path, 'td_ameritrade/creds.json')\n",
    "token_path = os.path.join(base_path, 'td_ameritrade/tokens.json')\n",
    "nasdaq_path = os.path.join(base_path, 'td_ameritrade/data/nasdaq.csv')"
   ]
  },
  {
   "cell_type": "markdown",
   "id": "7999b5e4",
   "metadata": {},
   "source": [
    "Get authentication object"
   ]
  },
  {
   "cell_type": "code",
   "execution_count": 129,
   "id": "7996fc26",
   "metadata": {},
   "outputs": [
    {
     "name": "stdout",
     "output_type": "stream",
     "text": [
      "Access token expired. Calling get_token_from_refresh_token()\n",
      "Access token has been successfully updated\n"
     ]
    }
   ],
   "source": [
    "td_client = TDClient()\n",
    "td_client.refresh_tokens()\n",
    "td_auth = td_client.get_auth()"
   ]
  },
  {
   "cell_type": "code",
   "execution_count": 130,
   "id": "f389c167",
   "metadata": {},
   "outputs": [],
   "source": [
    "cluster = Cluster()\n",
    "session = cluster.connect()"
   ]
  },
  {
   "cell_type": "markdown",
   "id": "5149419b",
   "metadata": {},
   "source": [
    "Get list of symbols from Cassandra table: bakery.symbols"
   ]
  },
  {
   "cell_type": "code",
   "execution_count": 131,
   "id": "5f020248",
   "metadata": {},
   "outputs": [],
   "source": [
    "def list_factory(colnames, rows):\n",
    "    return [row[0] for row in rows]\n",
    "session.row_factory = list_factory\n",
    "\n",
    "query = 'select symbol from bakery.symbols;'\n",
    "symbols = session.execute(query, timeout=None)\n",
    "symbols = [symbol for symbol in symbols]"
   ]
  },
  {
   "cell_type": "markdown",
   "id": "91b09e6d",
   "metadata": {},
   "source": [
    "Get price history for one symbol"
   ]
  },
  {
   "cell_type": "code",
   "execution_count": 132,
   "id": "e28ad073",
   "metadata": {},
   "outputs": [],
   "source": [
    "# params={\n",
    "#     'periodType': 'year',\n",
    "#     'period': 20,\n",
    "#     'frequencyType': 'daily',\n",
    "#     'frequency': 1\n",
    "# }\n",
    "\n",
    "# r = requests.get(\n",
    "#         f'https://api.tdameritrade.com/v1/marketdata/MSFT/pricehistory',\n",
    "#         auth=td_auth,\n",
    "#         params=params\n",
    "#     )"
   ]
  },
  {
   "cell_type": "code",
   "execution_count": 133,
   "id": "10544419",
   "metadata": {},
   "outputs": [],
   "source": [
    "# for candle in r.json()['candles']:\n",
    "#     dt = datetime.fromtimestamp(candle['datetime']/1000).strftime('%Y-%m-%d')\n",
    "#     values = (\n",
    "#         dt,\n",
    "#         'MSFT',\n",
    "#         candle['open'],\n",
    "#         candle['high'],\n",
    "#         candle['low'],\n",
    "#         candle['close'],\n",
    "#         candle['volume']\n",
    "#     )\n",
    "#     print(values)"
   ]
  },
  {
   "cell_type": "markdown",
   "id": "9fadf354",
   "metadata": {},
   "source": [
    "Get price history for list of symbols"
   ]
  },
  {
   "cell_type": "code",
   "execution_count": 134,
   "id": "196ccdf5",
   "metadata": {},
   "outputs": [
    {
     "name": "stderr",
     "output_type": "stream",
     "text": [
      "Symbol: CHI, Requests/Min: 33.31173514126262:  12%| | 998/8162 [29:57<3:28:10,  "
     ]
    },
    {
     "name": "stdout",
     "output_type": "stream",
     "text": [
      "Access token expired. Calling get_token_from_refresh_token()\n",
      "Access token has been successfully updated\n"
     ]
    },
    {
     "name": "stderr",
     "output_type": "stream",
     "text": [
      "Symbol: NBSE, Requests/Min: 33.41975362812427:  25%|▏| 2004/8162 [59:57<3:26:06,"
     ]
    },
    {
     "name": "stdout",
     "output_type": "stream",
     "text": [
      "Access token expired. Calling get_token_from_refresh_token()\n",
      "Access token has been successfully updated\n"
     ]
    },
    {
     "name": "stderr",
     "output_type": "stream",
     "text": [
      "Symbol: BAC^M, Requests/Min: 33.20119428943188:  37%|▎| 2987/8162 [1:29:57<1:52:"
     ]
    },
    {
     "name": "stdout",
     "output_type": "stream",
     "text": [
      "Access token expired. Calling get_token_from_refresh_token()\n",
      "Access token has been successfully updated\n"
     ]
    },
    {
     "name": "stderr",
     "output_type": "stream",
     "text": [
      "Symbol: SPSC, Requests/Min: 33.534939319289954:  49%|▍| 4023/8162 [1:59:57<1:54:"
     ]
    },
    {
     "name": "stdout",
     "output_type": "stream",
     "text": [
      "Access token expired. Calling get_token_from_refresh_token()\n",
      "Access token has been successfully updated\n"
     ]
    },
    {
     "name": "stderr",
     "output_type": "stream",
     "text": [
      "Symbol: KSS, Requests/Min: 33.707468229386016:  62%|▌| 5055/8162 [2:29:58<1:32:0"
     ]
    },
    {
     "name": "stdout",
     "output_type": "stream",
     "text": [
      "Access token expired. Calling get_token_from_refresh_token()\n",
      "Access token has been successfully updated\n"
     ]
    },
    {
     "name": "stderr",
     "output_type": "stream",
     "text": [
      "Symbol: SDHY, Requests/Min: 33.76842206572368:  74%|▋| 6077/8162 [2:59:57<35:17,"
     ]
    },
    {
     "name": "stdout",
     "output_type": "stream",
     "text": [
      "Access token expired. Calling get_token_from_refresh_token()\n",
      "Access token has been successfully updated\n"
     ]
    },
    {
     "name": "stderr",
     "output_type": "stream",
     "text": [
      "Symbol: KUKE, Requests/Min: 33.99347587329734:  87%|▊| 7138/8162 [3:29:58<25:14,"
     ]
    },
    {
     "name": "stdout",
     "output_type": "stream",
     "text": [
      "Access token expired. Calling get_token_from_refresh_token()\n",
      "Access token has been successfully updated\n"
     ]
    },
    {
     "name": "stderr",
     "output_type": "stream",
     "text": [
      "Symbol: XRX, Requests/Min: 34.0006017745085: 100%|▉| 8160/8162 [3:59:59<00:03,  "
     ]
    },
    {
     "name": "stdout",
     "output_type": "stream",
     "text": [
      "Access token expired. Calling get_token_from_refresh_token()\n",
      "Access token has been successfully updated\n"
     ]
    },
    {
     "name": "stderr",
     "output_type": "stream",
     "text": [
      "Symbol: ZETA, Requests/Min: 33.99557306126515: 100%|█| 8162/8162 [4:00:04<00:00,\n"
     ]
    }
   ],
   "source": [
    "max_calls_per_minute = 100\n",
    "num_calls = 0\n",
    "start_time = time.time()\n",
    "calls_per_minute = 0\n",
    "\n",
    "for symbol in (pbar := tqdm(symbols)):\n",
    "    pbar.set_description(f'Symbol: {symbol}, Requests/Min: {calls_per_minute}')\n",
    "    empty_response = False\n",
    "    \n",
    "    params={\n",
    "        'periodType': 'year',\n",
    "        'period': 20,\n",
    "        'frequencyType': 'daily',\n",
    "        'frequency': 1\n",
    "    }\n",
    "    \n",
    "    \n",
    "    if time.time() > td_client.token['expires_at']:\n",
    "        td_client = TDClient()\n",
    "        td_client.refresh_tokens()\n",
    "        td_auth = td_client.get_auth()\n",
    "\n",
    "    r = requests.get(\n",
    "            f'https://api.tdameritrade.com/v1/marketdata/{symbol}/pricehistory',\n",
    "            auth=td_auth,\n",
    "            params=params\n",
    "        )\n",
    "    \n",
    "    num_calls += 1\n",
    "    \n",
    "    try:\n",
    "        candles = r.json()['candles']\n",
    "    except ValueError:\n",
    "        empty_response = True\n",
    "    \n",
    "    if not empty_response:\n",
    "        for candle in r.json()['candles']:\n",
    "            dt = datetime.fromtimestamp(candle['datetime']/1000).strftime('%Y-%m-%d')\n",
    "            columns = (\n",
    "                'dt', 'symbol', 'open_price', 'high_price', 'low_price', 'close_price', 'total_volume'\n",
    "            )\n",
    "            values = (\n",
    "                dt,\n",
    "                symbol,\n",
    "                candle['open'],\n",
    "                candle['high'],\n",
    "                candle['low'],\n",
    "                candle['close'],\n",
    "                candle['volume']\n",
    "            )\n",
    "            \n",
    "            null_idxs = [i for i, value in enumerate(values) if value == 'NaN']\n",
    "            non_null_values = tuple([value for value in values if value != 'NaN'])\n",
    "            non_null_columns = '(' + ', '.join([column for i, column in enumerate(columns) if i not in null_idxs]) + ')'\n",
    "            \n",
    "            query = f'''\n",
    "                INSERT INTO bakery.prices_daily {non_null_columns}\n",
    "                VALUES {non_null_values}\n",
    "            '''\n",
    "            \n",
    "            session.execute(query)\n",
    "    \n",
    "    elapsed_time = (time.time() - start_time) / 60\n",
    "    calls_per_minute = num_calls / elapsed_time\n",
    "    if calls_per_minute > max_calls_per_minute:\n",
    "        time.sleep(1)"
   ]
  },
  {
   "cell_type": "code",
   "execution_count": 124,
   "id": "8f41195a",
   "metadata": {},
   "outputs": [
    {
     "data": {
      "text/plain": [
       "620943553"
      ]
     },
     "execution_count": 124,
     "metadata": {},
     "output_type": "execute_result"
    }
   ],
   "source": [
    "values[6] - 2147483647"
   ]
  },
  {
   "cell_type": "code",
   "execution_count": null,
   "id": "e74ef260",
   "metadata": {},
   "outputs": [],
   "source": [
    "2147483647"
   ]
  },
  {
   "cell_type": "code",
   "execution_count": 121,
   "id": "c9d1e176",
   "metadata": {},
   "outputs": [
    {
     "name": "stdout",
     "output_type": "stream",
     "text": [
      "2768427200\n"
     ]
    }
   ],
   "source": [
    "for candle in r.json()['candles']:\n",
    "    if candle['volume'] == 2768427200:\n",
    "        print(candle['volume'])"
   ]
  },
  {
   "cell_type": "code",
   "execution_count": 103,
   "id": "67a0b0c7",
   "metadata": {},
   "outputs": [
    {
     "data": {
      "text/plain": [
       "<auth.TDClient at 0x7f601007cc40>"
      ]
     },
     "execution_count": 103,
     "metadata": {},
     "output_type": "execute_result"
    }
   ],
   "source": [
    "td_client"
   ]
  },
  {
   "cell_type": "code",
   "execution_count": 104,
   "id": "43fa5c8b",
   "metadata": {},
   "outputs": [
    {
     "data": {
      "text/plain": [
       "{'access_token': '2lJJY24XLNL0ToP83rYzURFPbPtcdvcjnBWgGfYigjwACTiJSdRQgdMu8kGONsfYPpgsYnv7lQ2ess33p/wo68FmXwwFAThFYUvPDzfhhLIDAfDiQGCiEzMwNwXD4jzv4WiTZuWDQHzEn11kE2ol9kv2Sl3tE/eqdR/CQdWWQ8iw6mqtphciYZLI2djtZf7BMitORcr0KJcA3xueuK7QhCKzUsHWnbzjFRIL40A9SpkdpeYAVH0IOMxkNJ2xl1PXirGUVyrfrEqT9IuXd082rJ859Pblkw5bDgmFtb8U7MPHVJLhF9vG1nw8IzUDn6mY+4qKhZr39HA0j3ziWJfw9UA+VO82Sa1FEqwfa6DZlpBJp1mbPt790QbKUDpvotUlJmRuwIMjugmqesIZqQx4eyThgg5TQKkm+06oOAbWhTmt45qiXvUZ7s0PwslmJd+vOEFzpYUIV+JINVv70xXe+ItNpQUTrpFnNBvjUGRpHZNqd7FE3k7KcACL+XVdPIgUZ9ebHoLWhGgqjAJWyZs1+lVR4CwIfLRC3ZsPOjnfymZQ7ARnQ100MQuG4LYrgoVi/JHHvlVM+QUBpD/S+6baQHPgz0/5ihs3mE3K0BTQ418/+Vhev1SBqKgqZHL8JG4otyFyPPWBY2hNkGvwqX8vMiynf2ubU5mMD12+8ieK9L9U4NTCTpjD0nBdDfu1GFuSrsJIvpG4d8cpgDff3QiLbZv5E/x68LeEIbeHzanx2ysI8v/K1GT+0errjVXbcnWz3bIbA8NZKo1TRKBbrebJDi7QNXAjekJ/yCoBOHUdBr6JzfcgaVzvyBgQQ04/EuKbh4v6ComOl9reFCS71koj37HK4y/gqR6KMhIMXTrac3of2IklmVtw/P6/Dna0dSj82gHnqb8EkhomxDLjeg4jO4ynGD5xaDXLTzY5KfUPp5KCi9+TnPCHepn+Jhg0zrwAiCF+pC7IPhw8WIJB4Cc6eKYHTa6IoQik6eV/TRbsxGINFfXqqML1ig87egtDXibrItx/vJQhFA7nIkuvzPjt0gbh74wgINv6kkgSNC5jlengMzA6toFR5vqStgsC1esJB5VgbmsPNijbjMyW7Km05a5buW4my3jO6naYygyy2cTHJNf2Juosrg==212FD3x19z9sWBHDJACbC00B75E',\n",
       " 'refresh_token': 'z+WrLHUucEZIGf/oOecwrUbro0/MWyNSsn3nBxJ7aKlgcqUTN6VTfwpNnCxMPTNkcNxUFMnEvL7l+sNmCz5NiVcNaIyJDBX2fsijUOmBZdHluqGfD9NF56xV+PO3eRWlOieBAWqVJtk26G5bS1QSgg2i0cAhhhcmc1d6i5zhYlK+8t4C7hsnCHJ9rBnXBWC0Mpe8SS48hHdrEBbJpm7C6fjihakaPlH9j2Ft6kj/SjY2MgYIV9ytBWxsFVDaqeWdMa3qj3jckFIe4t2YCpuNoXev1vSb1nzLyWKGk85x1GzkoosPCUCfYGf2er3JfjO9dOSpdqGwPpZ15HH8/REfqlbZ2wTIZqqnZ0/WU4JnCQlACR41wFsjtceLWIS9GRmsI+tDcd4plhOMvfkbGbnO72s4JH0FzY8MLWOtWBAQh30x1TgUOPxVNfJJpla100MQuG4LYrgoVi/JHHvlae2D5Ifn0oEdKPp5yfkv9/62IMifJ7HfXuJb27roxGdqY+eLHGwyvX+l/KA6tEZZ78xjvfRrxq9nMk2D+DfiNJHOTssJuYp1Xg1IdcpDbsMlZUlg23CMrx4evwen2+edKxEQEeUYj+5LBeiwKMPbgQnKEFNtEXJlqN80FFvkJLbvM1tH10UU81WcwOZuD/+v5/xDgUlS/vmriUHdFFVssSPPwnCeu76x4ORPxomclsFab0wKaYsBFck7TA+xpKM2uZxqZ4N3e479e6i5dlYfptQkfVuPNarLJRihuvLQgZ3b/n9O2Pm+3DBCDuu6YNqPEOmt3m7SXItu6KC8If/bsiuImwnai7sVdvRMgSTUoZ/ufGRPIPZ4sM+SlokkJZPdOG5QFUa7njmblmGORxqeVKryr5NapFf+kdXNsN8MbdCjUC/UfykSkdF/dZw=212FD3x19z9sWBHDJACbC00B75E',\n",
       " 'scope': 'PlaceTrades AccountAccess MoveMoney',\n",
       " 'expires_in': 1800,\n",
       " 'refresh_token_expires_in': 7776000,\n",
       " 'token_type': 'Bearer',\n",
       " 'expires_at': 1662125387}"
      ]
     },
     "execution_count": 104,
     "metadata": {},
     "output_type": "execute_result"
    }
   ],
   "source": [
    "td_client.token"
   ]
  },
  {
   "cell_type": "code",
   "execution_count": 105,
   "id": "ad4d5203",
   "metadata": {},
   "outputs": [
    {
     "data": {
      "text/plain": [
       "1662127068"
      ]
     },
     "execution_count": 105,
     "metadata": {},
     "output_type": "execute_result"
    }
   ],
   "source": [
    "int(time.time())"
   ]
  },
  {
   "cell_type": "code",
   "execution_count": 42,
   "id": "9005e256",
   "metadata": {},
   "outputs": [
    {
     "name": "stdout",
     "output_type": "stream",
     "text": [
      "('dt', 'symbol', 'open_price', 'high_price', 'low_price', 'close_price', 'total_volume')\n",
      "('2017-04-18', 'WVVIP', 'NaN', 'NaN', 'NaN', 5.5001, 140)\n"
     ]
    }
   ],
   "source": [
    "columns = (\n",
    "    'dt', 'symbol', 'open_price', 'high_price', 'low_price', 'close_price', 'total_volume'\n",
    ")\n",
    "print(columns)\n",
    "print(values)"
   ]
  },
  {
   "cell_type": "code",
   "execution_count": 40,
   "id": "6c802a1e",
   "metadata": {},
   "outputs": [],
   "source": [
    "null_idxs = [i for i, value in enumerate(values) if value == 'NaN']\n",
    "non_null_values = tuple([value for value in values if value != 'NaN'])\n",
    "non_null_columns = '(' + ', '.join([column for i, column in enumerate(columns) if i not in null_idxs]) + ')'"
   ]
  },
  {
   "cell_type": "code",
   "execution_count": 41,
   "id": "7fa40df8",
   "metadata": {},
   "outputs": [
    {
     "name": "stdout",
     "output_type": "stream",
     "text": [
      "('2017-04-18', 'WVVIP', 5.5001, 140)\n",
      "(dt, symbol, close_price, total_volume)\n"
     ]
    }
   ],
   "source": [
    "print(non_null_values)\n",
    "print(non_null_columns)"
   ]
  },
  {
   "cell_type": "code",
   "execution_count": 18,
   "id": "49bda6d2",
   "metadata": {},
   "outputs": [
    {
     "ename": "TypeError",
     "evalue": "tuple indices must be integers or slices, not list",
     "output_type": "error",
     "traceback": [
      "\u001b[0;31m---------------------------------------------------------------------------\u001b[0m",
      "\u001b[0;31mTypeError\u001b[0m                                 Traceback (most recent call last)",
      "Input \u001b[0;32mIn [18]\u001b[0m, in \u001b[0;36m<cell line: 1>\u001b[0;34m()\u001b[0m\n\u001b[0;32m----> 1\u001b[0m \u001b[43mvalues\u001b[49m\u001b[43m[\u001b[49m\u001b[43mnull_idxs\u001b[49m\u001b[43m]\u001b[49m\n",
      "\u001b[0;31mTypeError\u001b[0m: tuple indices must be integers or slices, not list"
     ]
    }
   ],
   "source": [
    "values[null_idxs]"
   ]
  },
  {
   "cell_type": "code",
   "execution_count": 138,
   "id": "c8db389c",
   "metadata": {},
   "outputs": [],
   "source": [
    "def pandas_factory(colnames, rows):\n",
    "    return pd.DataFrame(rows, columns=colnames)\n",
    "session.row_factory = pandas_factory\n",
    "session.default_fetch_size = None\n",
    "\n",
    "result = session.execute(\n",
    "    f''' \n",
    "    SELECT * FROM bakery.price_history_daily WHERE symbol = 'MSFT' ALLOW FILTERING;\n",
    "    ''',\n",
    "    timeout=None\n",
    ")\n",
    "\n",
    "df = result._current_rows"
   ]
  },
  {
   "cell_type": "code",
   "execution_count": 139,
   "id": "b5681326",
   "metadata": {},
   "outputs": [
    {
     "name": "stdout",
     "output_type": "stream",
     "text": [
      "<class 'pandas.core.frame.DataFrame'>\n",
      "Index: 0 entries\n",
      "Data columns (total 7 columns):\n",
      " #   Column        Non-Null Count  Dtype \n",
      "---  ------        --------------  ----- \n",
      " 0   dt            0 non-null      object\n",
      " 1   symbol        0 non-null      object\n",
      " 2   close_price   0 non-null      object\n",
      " 3   high_price    0 non-null      object\n",
      " 4   low_price     0 non-null      object\n",
      " 5   open_price    0 non-null      object\n",
      " 6   total_volume  0 non-null      object\n",
      "dtypes: object(7)\n",
      "memory usage: 0.0+ bytes\n"
     ]
    }
   ],
   "source": [
    "df.info()"
   ]
  },
  {
   "cell_type": "code",
   "execution_count": 136,
   "id": "95729f92",
   "metadata": {},
   "outputs": [],
   "source": [
    "df['dt'] = df['dt'].astype(str)"
   ]
  },
  {
   "cell_type": "code",
   "execution_count": 137,
   "id": "5942cb8c",
   "metadata": {},
   "outputs": [
    {
     "name": "stdout",
     "output_type": "stream",
     "text": [
      "<class 'pandas.core.frame.DataFrame'>\n",
      "RangeIndex: 1854 entries, 0 to 1853\n",
      "Data columns (total 7 columns):\n",
      " #   Column        Non-Null Count  Dtype  \n",
      "---  ------        --------------  -----  \n",
      " 0   dt            1854 non-null   object \n",
      " 1   symbol        1854 non-null   object \n",
      " 2   close_price   1854 non-null   float64\n",
      " 3   high_price    1854 non-null   float64\n",
      " 4   low_price     1854 non-null   float64\n",
      " 5   open_price    1854 non-null   float64\n",
      " 6   total_volume  1854 non-null   int64  \n",
      "dtypes: float64(4), int64(1), object(2)\n",
      "memory usage: 101.5+ KB\n"
     ]
    }
   ],
   "source": [
    "df.info()"
   ]
  },
  {
   "cell_type": "code",
   "execution_count": null,
   "id": "b311f9c5",
   "metadata": {},
   "outputs": [],
   "source": [
    "df['dt'] = pd.to_datetime"
   ]
  }
 ],
 "metadata": {
  "kernelspec": {
   "display_name": "Python 3 (ipykernel)",
   "language": "python",
   "name": "python3"
  },
  "language_info": {
   "codemirror_mode": {
    "name": "ipython",
    "version": 3
   },
   "file_extension": ".py",
   "mimetype": "text/x-python",
   "name": "python",
   "nbconvert_exporter": "python",
   "pygments_lexer": "ipython3",
   "version": "3.8.10"
  }
 },
 "nbformat": 4,
 "nbformat_minor": 5
}
