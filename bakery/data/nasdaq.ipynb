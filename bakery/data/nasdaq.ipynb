{
 "cells": [
  {
   "cell_type": "code",
   "execution_count": 71,
   "metadata": {},
   "outputs": [],
   "source": [
    "import glob\n",
    "import os\n",
    "import json\n",
    "import pandas as pd\n",
    "from pymongo import MongoClient\n",
    "from selenium import webdriver\n",
    "from selenium.webdriver.firefox.options import Options\n",
    "from selenium.webdriver.firefox.firefox_profile import FirefoxProfile\n",
    "from selenium.webdriver.common.by import By\n",
    "import time"
   ]
  },
  {
   "cell_type": "code",
   "execution_count": 66,
   "metadata": {},
   "outputs": [],
   "source": [
    "def extract_nasdaq():\n",
    "\n",
    "    # Set driver options\n",
    "    options=Options()\n",
    "    options.set_preference(\"browser.helperApps.neverAsk.saveToDisk\", \"text/csv\")\n",
    "    options.add_argument(\"-headless\")\n",
    "    options.add_argument(\"user-agent=Mozilla/5.0 (X11; Linux x86_64) AppleWebKit/537.36 (KHTML, like Gecko) Chrome/60.0.3112.50 Safari/537.36\")\n",
    "    options.add_argument(\"--window-size=1920,1080\")\n",
    "\n",
    "    # Start firefox driver, navigate to nasdaq url, and click download button\n",
    "    driver = webdriver.Firefox(options=options)\n",
    "    driver.get(\"https://www.nasdaq.com/market-activity/stocks/screener\")\n",
    "    btn = driver.find_element(\n",
    "        By.XPATH,\n",
    "        value=\"//button[@class='nasdaq-screener__form-button--download ns-download-1']\"\n",
    "    )\n",
    "    driver.execute_script(\"arguments[0].click();\", btn)\n",
    "    # btn.click()\n",
    "    time.sleep(2)\n",
    "\n",
    "    # Close webdriver\n",
    "    driver.close()\n",
    "\n",
    "def transform_nasdaq():\n",
    "    \n",
    "    # Path to .csv in downloads with wildcard (*)\n",
    "    path = os.path.expanduser(\"~\") + \"/downloads/nasdaq_screener_*.csv\"\n",
    "\n",
    "    # Read .csv from downloads\n",
    "    file_list = glob.glob(path)\n",
    "    file_path = file_list[-1]\n",
    "    df = pd.read_csv(file_path)\n",
    "\n",
    "    # Clean\n",
    "    df[\"Last Sale\"] = df[\"Last Sale\"].replace(\"[$,]\", \"\", regex=True).astype(float)\n",
    "    df[\"Net Change\"] = df[\"Net Change\"].astype(float)\n",
    "    df[\"% Change\"] = df[\"% Change\"].replace(\"[%]\", \"\", regex=True).astype(float) / 100\n",
    "    df[\"IPO Year\"] = df[\"IPO Year\"].astype(\"Int64\")\n",
    "    df = df.rename(columns={\n",
    "        \"Symbol\": \"symbol\",\n",
    "        \"Name\": \"name\",\n",
    "        \"Last Sale\": \"last_sale\",\n",
    "        \"Net Change\": \"net_change\",\n",
    "        \"% Change\": \"percent_change\",\n",
    "        \"Market Cap\": \"market_cap\",\n",
    "        \"Country\": \"country\",\n",
    "        \"IPO Year\": \"ipo_year\",\n",
    "        \"Volume\": \"volume\",\n",
    "        \"Sector\": \"sector\",\n",
    "        \"Industry\": \"industry\"\n",
    "    })\n",
    "    \n",
    "    return df\n",
    "\n",
    "def load_nasdaq(client, df):\n",
    "\n",
    "    rows = df.to_dict(\"records\")\n",
    "    coll = client[\"bakery\"][\"nasdaq\"]\n",
    "    result = coll.insert_many(rows)\n",
    "\n",
    "    return result\n"
   ]
  },
  {
   "cell_type": "code",
   "execution_count": 67,
   "metadata": {},
   "outputs": [],
   "source": [
    "extract_nasdaq()"
   ]
  },
  {
   "cell_type": "code",
   "execution_count": 68,
   "metadata": {},
   "outputs": [],
   "source": [
    "df = transform_nasdaq()"
   ]
  },
  {
   "cell_type": "code",
   "execution_count": 72,
   "metadata": {},
   "outputs": [],
   "source": [
    "secrets_path = os.path.join(os.path.expanduser('~'), 'git/bakery/bakery/data/secrets.json')\n",
    "with open(secrets_path, \"rb\") as f:\n",
    "    secrets = json.loads(f.read().decode())\n",
    "    conn_str = secrets[\"mongo\"][\"conn_str\"]\n",
    "\n",
    "client = MongoClient(conn_str)\n",
    "\n",
    "result = load_nasdaq(client, df)"
   ]
  },
  {
   "cell_type": "code",
   "execution_count": null,
   "metadata": {},
   "outputs": [],
   "source": []
  }
 ],
 "metadata": {
  "kernelspec": {
   "display_name": ".venv",
   "language": "python",
   "name": "python3"
  },
  "language_info": {
   "codemirror_mode": {
    "name": "ipython",
    "version": 3
   },
   "file_extension": ".py",
   "mimetype": "text/x-python",
   "name": "python",
   "nbconvert_exporter": "python",
   "pygments_lexer": "ipython3",
   "version": "3.12.0"
  }
 },
 "nbformat": 4,
 "nbformat_minor": 2
}
