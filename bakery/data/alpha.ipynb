{
 "cells": [
  {
   "cell_type": "code",
   "execution_count": 78,
   "metadata": {},
   "outputs": [],
   "source": [
    "import time\n",
    "from tqdm.notebook import tqdm\n",
    "import os\n",
    "import json\n",
    "import requests\n",
    "import pandas as pd\n",
    "from pymongo import MongoClient"
   ]
  },
  {
   "cell_type": "code",
   "execution_count": 79,
   "metadata": {},
   "outputs": [],
   "source": [
    "def extract_alpha_hourly(symbol, year, month, api_key, endpoint):\n",
    "    \n",
    "    year_month = str(year) + \"-\" + f\"{month:02}\"\n",
    "    params = {\n",
    "        \"function\": \"TIME_SERIES_INTRADAY\",\n",
    "        \"symbol\": symbol,\n",
    "        \"interval\": \"60min\",\n",
    "        \"extended_hours\": \"true\",\n",
    "        \"outputsize\": \"full\",\n",
    "        \"month\": year_month,\n",
    "        \"apikey\": api_key\n",
    "    }\n",
    "    try:\n",
    "        r = requests.get(endpoint, params)\n",
    "        r_dict = r.json()[\"Time Series (60min)\"]\n",
    "    except requests.exceptions.RequestException as re:\n",
    "        print(f\"Request error for symbol {symbol} and year-month {year_month}\\n{re}\")\n",
    "    except KeyError as ke:\n",
    "        print(f\"Key error for symbol {symbol} and year-month {year_month}\\n{ke}\\nAvailable keys: {r.json().keys()}, likely caused by rate limiting.\")\n",
    "    \n",
    "    return r_dict\n",
    "\n",
    "def transform_alpha_hourly(symbol, data):\n",
    "\n",
    "    df = pd.DataFrame(data).T\n",
    "    df[\"dttm\"] = df.index\n",
    "    df = df.reset_index(drop=True)\n",
    "    df[\"symbol\"] = symbol\n",
    "\n",
    "    df = df.rename(columns={\"1. open\": \"open\", \"2. high\": \"high\", \"3. low\": \"low\", \"4. close\": \"close\", \"5. volume\": \"volume\"})\n",
    "\n",
    "    float_cols = [\"open\", \"high\", \"low\", \"close\"]\n",
    "    df[float_cols] = df[float_cols].apply(pd.to_numeric, errors=\"coerce\")\n",
    "    df[\"volume\"] = pd.to_numeric(df[\"volume\"])\n",
    "    df[\"dttm\"] = pd.to_datetime(df[\"dttm\"])\n",
    "    \n",
    "    return df\n",
    "\n",
    "def load_alpha_hourly(client, df):\n",
    "\n",
    "    rows = df.to_dict(\"records\")\n",
    "    coll = client[\"bakery\"][\"alpha_stock_intraday_hourly\"]\n",
    "    result = coll.insert_many(rows)\n",
    "\n",
    "    return result\n"
   ]
  },
  {
   "cell_type": "code",
   "execution_count": 80,
   "metadata": {},
   "outputs": [],
   "source": [
    "secrets_path = os.path.join(os.path.expanduser('~'), 'git/bakery/bakery/data/secrets.json')\n",
    "with open(secrets_path, \"rb\") as f:\n",
    "    secrets = json.loads(f.read().decode())\n",
    "    api_key = secrets[\"alpha\"][\"api_key\"]\n",
    "    limit = secrets[\"alpha\"][\"limit\"]\n",
    "    endpoint = secrets[\"alpha\"][\"endpoint\"]\n",
    "    conn_str = secrets[\"mongo\"][\"conn_str\"]\n",
    "\n",
    "client = MongoClient(conn_str)\n",
    "\n",
    "symbol = \"TSLA\"\n",
    "year = 2024\n",
    "month = 1"
   ]
  },
  {
   "cell_type": "code",
   "execution_count": 81,
   "metadata": {},
   "outputs": [],
   "source": [
    "data = extract_alpha_hourly(symbol, year, month, api_key, endpoint)"
   ]
  },
  {
   "cell_type": "code",
   "execution_count": 82,
   "metadata": {},
   "outputs": [],
   "source": [
    "df = transform_alpha_hourly(symbol, data)"
   ]
  },
  {
   "cell_type": "code",
   "execution_count": 83,
   "metadata": {},
   "outputs": [],
   "source": [
    "result = load_alpha_hourly(client, df)"
   ]
  },
  {
   "cell_type": "code",
   "execution_count": 44,
   "metadata": {},
   "outputs": [],
   "source": [
    "symbols = ...\n",
    "years = ...\n",
    "\n",
    "t0 = time.time()\n",
    "num_requests = 0\n",
    "\n",
    "for symbol in symbols:\n",
    "    for year in years:\n",
    "        for month in range(1, 13):\n",
    "            \n",
    "\n",
    "\n",
    "\n",
    "            elapsed = (time.time() - t0) / 60\n",
    "            num_requests += 1\n",
    "            requests_per_minute = num_requests / elapsed\n",
    "            while requests_per_minute > limit:\n",
    "                time.sleep(3)\n",
    "                elapsed = (time.time() - t0) / 60\n",
    "                requests_per_minute = num_requests / elapsed"
   ]
  },
  {
   "cell_type": "code",
   "execution_count": 74,
   "metadata": {},
   "outputs": [],
   "source": [
    "coll = client[\"bakery\"][\"alpha_stock_intraday_hourly\"]"
   ]
  },
  {
   "cell_type": "code",
   "execution_count": 75,
   "metadata": {},
   "outputs": [],
   "source": [
    "resp = coll.delete_many({})"
   ]
  },
  {
   "cell_type": "code",
   "execution_count": 76,
   "metadata": {},
   "outputs": [
    {
     "data": {
      "text/plain": [
       "DeleteResult({'n': 206, 'ok': 1.0}, acknowledged=True)"
      ]
     },
     "execution_count": 76,
     "metadata": {},
     "output_type": "execute_result"
    }
   ],
   "source": [
    "resp"
   ]
  },
  {
   "cell_type": "code",
   "execution_count": null,
   "metadata": {},
   "outputs": [],
   "source": []
  }
 ],
 "metadata": {
  "kernelspec": {
   "display_name": ".venv",
   "language": "python",
   "name": "python3"
  },
  "language_info": {
   "codemirror_mode": {
    "name": "ipython",
    "version": 3
   },
   "file_extension": ".py",
   "mimetype": "text/x-python",
   "name": "python",
   "nbconvert_exporter": "python",
   "pygments_lexer": "ipython3",
   "version": "3.12.0"
  }
 },
 "nbformat": 4,
 "nbformat_minor": 2
}
