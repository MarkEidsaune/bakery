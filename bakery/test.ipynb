{
 "cells": [
  {
   "cell_type": "markdown",
   "metadata": {},
   "source": [
    "### Data tests"
   ]
  },
  {
   "cell_type": "code",
   "execution_count": 3,
   "metadata": {},
   "outputs": [],
   "source": [
    "# import os\n",
    "# from data.alpha import Alpha\n",
    "\n",
    "# path = os.path.join(os.path.expanduser('~'), \"git/bakery/bakery/data/config.json\")\n",
    "# alpha = Alpha(path)\n",
    "\n",
    "# # Active list\n",
    "# result = alpha.etl_active_list()\n",
    "\n",
    "# # Daily\n",
    "# symbols = [\"TSLA\", \"MSFT\", \"IBM\", \"AAPL\"]\n",
    "# result = alpha.etl_daily(symbols=symbols)\n",
    "\n",
    "# # Hourly\n",
    "# symbols = [\"NVDA\", \"META\"]\n",
    "# years = list(range(2022, 2024))\n",
    "# months = list(range(1, 13))\n",
    "# result = alpha.etl_hourly(symbols=symbols, years=years, months=months)"
   ]
  },
  {
   "cell_type": "markdown",
   "metadata": {},
   "source": [
    "\"Truncate collection\". ie. delete all documents, but keep empty collection"
   ]
  },
  {
   "cell_type": "code",
   "execution_count": 6,
   "metadata": {},
   "outputs": [],
   "source": [
    "# import os\n",
    "# import json\n",
    "# from pymongo import MongoClient\n",
    "\n",
    "# path = os.path.join(os.path.expanduser('~'), \"git/bakery/bakery/data/config.json\")\n",
    "# with open(path, \"rb\") as f:\n",
    "#     config = json.loads(f.read().decode())\n",
    "# client = MongoClient(config[\"mongo\"][\"conn_str\"])\n",
    "\n",
    "# db = client[\"bakery\"]\n",
    "# coll = db[\"alpha_daily\"]\n",
    "\n",
    "# result = coll.delete_many({})"
   ]
  },
  {
   "cell_type": "markdown",
   "metadata": {},
   "source": [
    "Read from DB"
   ]
  },
  {
   "cell_type": "code",
   "execution_count": 4,
   "metadata": {},
   "outputs": [],
   "source": [
    "import os\n",
    "import json\n",
    "from pymongo import MongoClient\n",
    "import pandas as pd\n",
    "\n",
    "path = os.path.join(os.path.expanduser('~'), \"git/bakery/bakery/data/config.json\")\n",
    "with open(path, \"rb\") as f:\n",
    "    config = json.loads(f.read().decode())\n",
    "client = MongoClient(config[\"mongo\"][\"conn_str\"])\n",
    "\n",
    "db = client[\"bakery\"]\n",
    "coll = db[\"alpha_daily\"]\n",
    "\n",
    "cursor = coll.aggregate([\n",
    "    {\n",
    "         \"$group\": {\n",
    "            \"_id\": \"$symbol\",\n",
    "            \"min\": {\"$min\": \"$dttm\"},\n",
    "            \"max\": {\"$max\": \"$dttm\"}\n",
    "        }\n",
    "    }\n",
    "])"
   ]
  },
  {
   "cell_type": "code",
   "execution_count": 5,
   "metadata": {},
   "outputs": [],
   "source": [
    "df = pd.DataFrame(list(cursor))"
   ]
  },
  {
   "cell_type": "code",
   "execution_count": 7,
   "metadata": {},
   "outputs": [
    {
     "data": {
      "text/plain": [
       "(11619, 3)"
      ]
     },
     "execution_count": 7,
     "metadata": {},
     "output_type": "execute_result"
    }
   ],
   "source": [
    "df.shape"
   ]
  },
  {
   "cell_type": "code",
   "execution_count": 9,
   "metadata": {},
   "outputs": [
    {
     "data": {
      "text/html": [
       "<div>\n",
       "<style scoped>\n",
       "    .dataframe tbody tr th:only-of-type {\n",
       "        vertical-align: middle;\n",
       "    }\n",
       "\n",
       "    .dataframe tbody tr th {\n",
       "        vertical-align: top;\n",
       "    }\n",
       "\n",
       "    .dataframe thead th {\n",
       "        text-align: right;\n",
       "    }\n",
       "</style>\n",
       "<table border=\"1\" class=\"dataframe\">\n",
       "  <thead>\n",
       "    <tr style=\"text-align: right;\">\n",
       "      <th></th>\n",
       "      <th>_id</th>\n",
       "      <th>min</th>\n",
       "      <th>max</th>\n",
       "    </tr>\n",
       "  </thead>\n",
       "  <tbody>\n",
       "    <tr>\n",
       "      <th>9738</th>\n",
       "      <td>A</td>\n",
       "      <td>2024-01-23</td>\n",
       "      <td>1999-11-18</td>\n",
       "    </tr>\n",
       "    <tr>\n",
       "      <th>8053</th>\n",
       "      <td>AA</td>\n",
       "      <td>2024-01-23</td>\n",
       "      <td>2016-10-18</td>\n",
       "    </tr>\n",
       "    <tr>\n",
       "      <th>7115</th>\n",
       "      <td>AAA</td>\n",
       "      <td>2024-01-23</td>\n",
       "      <td>2020-09-09</td>\n",
       "    </tr>\n",
       "    <tr>\n",
       "      <th>1960</th>\n",
       "      <td>AAAU</td>\n",
       "      <td>2024-01-23</td>\n",
       "      <td>2018-08-15</td>\n",
       "    </tr>\n",
       "    <tr>\n",
       "      <th>2158</th>\n",
       "      <td>AACG</td>\n",
       "      <td>2024-01-23</td>\n",
       "      <td>2008-01-29</td>\n",
       "    </tr>\n",
       "    <tr>\n",
       "      <th>...</th>\n",
       "      <td>...</td>\n",
       "      <td>...</td>\n",
       "      <td>...</td>\n",
       "    </tr>\n",
       "    <tr>\n",
       "      <th>176</th>\n",
       "      <td>ZYRX</td>\n",
       "      <td>2024-01-23</td>\n",
       "      <td>2007-07-13</td>\n",
       "    </tr>\n",
       "    <tr>\n",
       "      <th>3605</th>\n",
       "      <td>ZYXI</td>\n",
       "      <td>2024-01-23</td>\n",
       "      <td>2012-07-23</td>\n",
       "    </tr>\n",
       "    <tr>\n",
       "      <th>7365</th>\n",
       "      <td>ZZK</td>\n",
       "      <td>2023-05-12</td>\n",
       "      <td>2020-07-22</td>\n",
       "    </tr>\n",
       "    <tr>\n",
       "      <th>2762</th>\n",
       "      <td>ZZZ</td>\n",
       "      <td>2024-01-23</td>\n",
       "      <td>2023-12-28</td>\n",
       "    </tr>\n",
       "    <tr>\n",
       "      <th>4094</th>\n",
       "      <td>NaN</td>\n",
       "      <td>2024-01-23</td>\n",
       "      <td>1999-11-01</td>\n",
       "    </tr>\n",
       "  </tbody>\n",
       "</table>\n",
       "<p>11619 rows × 3 columns</p>\n",
       "</div>"
      ],
      "text/plain": [
       "       _id        min        max\n",
       "9738     A 2024-01-23 1999-11-18\n",
       "8053    AA 2024-01-23 2016-10-18\n",
       "7115   AAA 2024-01-23 2020-09-09\n",
       "1960  AAAU 2024-01-23 2018-08-15\n",
       "2158  AACG 2024-01-23 2008-01-29\n",
       "...    ...        ...        ...\n",
       "176   ZYRX 2024-01-23 2007-07-13\n",
       "3605  ZYXI 2024-01-23 2012-07-23\n",
       "7365   ZZK 2023-05-12 2020-07-22\n",
       "2762   ZZZ 2024-01-23 2023-12-28\n",
       "4094   NaN 2024-01-23 1999-11-01\n",
       "\n",
       "[11619 rows x 3 columns]"
      ]
     },
     "execution_count": 9,
     "metadata": {},
     "output_type": "execute_result"
    }
   ],
   "source": [
    "df.sort_values(by=\"_id\")"
   ]
  },
  {
   "cell_type": "markdown",
   "metadata": {},
   "source": [
    "### Dash tests"
   ]
  },
  {
   "cell_type": "code",
   "execution_count": 5,
   "metadata": {},
   "outputs": [],
   "source": [
    "# import os\n",
    "# import json\n",
    "# import streamlit as st\n",
    "# from pymongo import MongoClient\n",
    "# import pandas as pd\n",
    "\n",
    "# path = os.path.join(os.path.expanduser('~'), \"git/bakery/bakery/data/config.json\")\n",
    "\n",
    "# with open(path, \"rb\") as f:\n",
    "#     config = json.loads(f.read().decode())\n",
    "\n",
    "# client = MongoClient(config[\"mongo\"][\"conn_str\"])\n",
    "# db = client[\"bakery\"]\n",
    "# coll = db[\"alpha_daily\"]\n",
    "\n",
    "# query = {\"symbol\": \"TSLA\"}\n",
    "# df = pd.DataFrame(list(coll.find(query)))\n",
    "\n",
    "# print(df.head(25))"
   ]
  },
  {
   "cell_type": "code",
   "execution_count": null,
   "metadata": {},
   "outputs": [],
   "source": []
  }
 ],
 "metadata": {
  "kernelspec": {
   "display_name": ".venv",
   "language": "python",
   "name": "python3"
  },
  "language_info": {
   "codemirror_mode": {
    "name": "ipython",
    "version": 3
   },
   "file_extension": ".py",
   "mimetype": "text/x-python",
   "name": "python",
   "nbconvert_exporter": "python",
   "pygments_lexer": "ipython3",
   "version": "3.12.0"
  }
 },
 "nbformat": 4,
 "nbformat_minor": 2
}
