{
 "cells": [
  {
   "cell_type": "markdown",
   "metadata": {},
   "source": [
    "### Data tests"
   ]
  },
  {
   "cell_type": "code",
   "execution_count": 139,
   "metadata": {},
   "outputs": [],
   "source": [
    "# import os\n",
    "# from data.alpha import Alpha\n",
    "\n",
    "# path = os.path.join(os.path.expanduser('~'), \"git/bakery/bakery/data/config.json\")\n",
    "# alpha = Alpha(path)\n",
    "\n",
    "# # Active list\n",
    "# result = alpha.etl_active_list()\n",
    "\n",
    "# # Daily\n",
    "# symbols = [\"TSLA\", \"MSFT\", \"IBM\", \"AAPL\"]\n",
    "# result = alpha.etl_daily(symbols=symbols)\n",
    "\n",
    "# # Hourly\n",
    "# symbols = [\"NVDA\", \"META\"]\n",
    "# years = list(range(2022, 2024))\n",
    "# months = list(range(1, 13))\n",
    "# result = alpha.etl_hourly(symbols=symbols, years=years, months=months)"
   ]
  },
  {
   "cell_type": "markdown",
   "metadata": {},
   "source": [
    "\"Truncate collection\". ie. delete all documents, but keep empty collection"
   ]
  },
  {
   "cell_type": "code",
   "execution_count": 176,
   "metadata": {},
   "outputs": [],
   "source": [
    "# import os\n",
    "# import json\n",
    "# from pymongo import MongoClient\n",
    "\n",
    "# path = os.path.join(os.path.expanduser('~'), \"git/bakery/bakery/data/config.json\")\n",
    "# with open(path, \"rb\") as f:\n",
    "#     config = json.loads(f.read().decode())\n",
    "# client = MongoClient(config[\"mongo\"][\"conn_str\"])\n",
    "\n",
    "# db = client[\"bakery\"]\n",
    "# coll = db[\"\"]\n",
    "\n",
    "# result = coll.delete_many({})"
   ]
  },
  {
   "cell_type": "markdown",
   "metadata": {},
   "source": [
    "Read from DB"
   ]
  },
  {
   "cell_type": "code",
   "execution_count": 141,
   "metadata": {},
   "outputs": [],
   "source": [
    "# import os\n",
    "# import json\n",
    "# from pymongo import MongoClient\n",
    "# import pandas as pd\n",
    "\n",
    "# path = os.path.join(os.path.expanduser('~'), \"git/bakery/bakery/data/config.json\")\n",
    "# with open(path, \"rb\") as f:\n",
    "#     config = json.loads(f.read().decode())\n",
    "# client = MongoClient(config[\"mongo\"][\"conn_str\"])\n",
    "\n",
    "# db = client[\"bakery\"]\n",
    "# coll = db[\"alpha_daily\"]\n",
    "\n",
    "# cursor = coll.aggregate([\n",
    "#     {\n",
    "#          \"$group\": {\n",
    "#             \"_id\": \"$symbol\",\n",
    "#             \"min\": {\"$min\": \"$dttm\"},\n",
    "#             \"max\": {\"$max\": \"$dttm\"}\n",
    "#         }\n",
    "#     }\n",
    "# ])"
   ]
  },
  {
   "cell_type": "code",
   "execution_count": 142,
   "metadata": {},
   "outputs": [],
   "source": [
    "# df = pd.DataFrame(list(cursor))"
   ]
  },
  {
   "cell_type": "code",
   "execution_count": 143,
   "metadata": {},
   "outputs": [],
   "source": [
    "# df.shape"
   ]
  },
  {
   "cell_type": "code",
   "execution_count": 144,
   "metadata": {},
   "outputs": [],
   "source": [
    "# df.sort_values(by=\"_id\")"
   ]
  },
  {
   "cell_type": "code",
   "execution_count": 145,
   "metadata": {},
   "outputs": [],
   "source": [
    "# cursor = coll.find({\"symbol\": \"TSLA\"})"
   ]
  },
  {
   "cell_type": "code",
   "execution_count": 146,
   "metadata": {},
   "outputs": [],
   "source": [
    "# df = pd.DataFrame(list(cursor))\n",
    "# df.head()"
   ]
  },
  {
   "cell_type": "code",
   "execution_count": 147,
   "metadata": {},
   "outputs": [],
   "source": [
    "# df.shape"
   ]
  },
  {
   "cell_type": "markdown",
   "metadata": {},
   "source": [
    "## Data Plots"
   ]
  },
  {
   "cell_type": "code",
   "execution_count": 194,
   "metadata": {},
   "outputs": [],
   "source": [
    "import os\n",
    "import json\n",
    "import pandas as pd\n",
    "import numpy as np\n",
    "from pymongo import MongoClient\n",
    "\n",
    "from bokeh.models import BasicTicker, ColorBar, LinearColorMapper, DatetimeTickFormatter, ColumnDataSource\n",
    "from bokeh.plotting import figure, show\n",
    "from bokeh.io import output_notebook"
   ]
  },
  {
   "cell_type": "code",
   "execution_count": 195,
   "metadata": {},
   "outputs": [
    {
     "data": {
      "text/html": [
       "<div class=\"bk-root\">\n",
       "        <a href=\"https://bokeh.org\" target=\"_blank\" class=\"bk-logo bk-logo-small bk-logo-notebook\"></a>\n",
       "        <span id=\"1553\">Loading BokehJS ...</span>\n",
       "    </div>\n"
      ]
     },
     "metadata": {},
     "output_type": "display_data"
    },
    {
     "data": {
      "application/javascript": "(function(root) {\n  function now() {\n    return new Date();\n  }\n\n  const force = true;\n\n  if (typeof root._bokeh_onload_callbacks === \"undefined\" || force === true) {\n    root._bokeh_onload_callbacks = [];\n    root._bokeh_is_loading = undefined;\n  }\n\nconst JS_MIME_TYPE = 'application/javascript';\n  const HTML_MIME_TYPE = 'text/html';\n  const EXEC_MIME_TYPE = 'application/vnd.bokehjs_exec.v0+json';\n  const CLASS_NAME = 'output_bokeh rendered_html';\n\n  /**\n   * Render data to the DOM node\n   */\n  function render(props, node) {\n    const script = document.createElement(\"script\");\n    node.appendChild(script);\n  }\n\n  /**\n   * Handle when an output is cleared or removed\n   */\n  function handleClearOutput(event, handle) {\n    const cell = handle.cell;\n\n    const id = cell.output_area._bokeh_element_id;\n    const server_id = cell.output_area._bokeh_server_id;\n    // Clean up Bokeh references\n    if (id != null && id in Bokeh.index) {\n      Bokeh.index[id].model.document.clear();\n      delete Bokeh.index[id];\n    }\n\n    if (server_id !== undefined) {\n      // Clean up Bokeh references\n      const cmd_clean = \"from bokeh.io.state import curstate; print(curstate().uuid_to_server['\" + server_id + \"'].get_sessions()[0].document.roots[0]._id)\";\n      cell.notebook.kernel.execute(cmd_clean, {\n        iopub: {\n          output: function(msg) {\n            const id = msg.content.text.trim();\n            if (id in Bokeh.index) {\n              Bokeh.index[id].model.document.clear();\n              delete Bokeh.index[id];\n            }\n          }\n        }\n      });\n      // Destroy server and session\n      const cmd_destroy = \"import bokeh.io.notebook as ion; ion.destroy_server('\" + server_id + \"')\";\n      cell.notebook.kernel.execute(cmd_destroy);\n    }\n  }\n\n  /**\n   * Handle when a new output is added\n   */\n  function handleAddOutput(event, handle) {\n    const output_area = handle.output_area;\n    const output = handle.output;\n\n    // limit handleAddOutput to display_data with EXEC_MIME_TYPE content only\n    if ((output.output_type != \"display_data\") || (!Object.prototype.hasOwnProperty.call(output.data, EXEC_MIME_TYPE))) {\n      return\n    }\n\n    const toinsert = output_area.element.find(\".\" + CLASS_NAME.split(' ')[0]);\n\n    if (output.metadata[EXEC_MIME_TYPE][\"id\"] !== undefined) {\n      toinsert[toinsert.length - 1].firstChild.textContent = output.data[JS_MIME_TYPE];\n      // store reference to embed id on output_area\n      output_area._bokeh_element_id = output.metadata[EXEC_MIME_TYPE][\"id\"];\n    }\n    if (output.metadata[EXEC_MIME_TYPE][\"server_id\"] !== undefined) {\n      const bk_div = document.createElement(\"div\");\n      bk_div.innerHTML = output.data[HTML_MIME_TYPE];\n      const script_attrs = bk_div.children[0].attributes;\n      for (let i = 0; i < script_attrs.length; i++) {\n        toinsert[toinsert.length - 1].firstChild.setAttribute(script_attrs[i].name, script_attrs[i].value);\n        toinsert[toinsert.length - 1].firstChild.textContent = bk_div.children[0].textContent\n      }\n      // store reference to server id on output_area\n      output_area._bokeh_server_id = output.metadata[EXEC_MIME_TYPE][\"server_id\"];\n    }\n  }\n\n  function register_renderer(events, OutputArea) {\n\n    function append_mime(data, metadata, element) {\n      // create a DOM node to render to\n      const toinsert = this.create_output_subarea(\n        metadata,\n        CLASS_NAME,\n        EXEC_MIME_TYPE\n      );\n      this.keyboard_manager.register_events(toinsert);\n      // Render to node\n      const props = {data: data, metadata: metadata[EXEC_MIME_TYPE]};\n      render(props, toinsert[toinsert.length - 1]);\n      element.append(toinsert);\n      return toinsert\n    }\n\n    /* Handle when an output is cleared or removed */\n    events.on('clear_output.CodeCell', handleClearOutput);\n    events.on('delete.Cell', handleClearOutput);\n\n    /* Handle when a new output is added */\n    events.on('output_added.OutputArea', handleAddOutput);\n\n    /**\n     * Register the mime type and append_mime function with output_area\n     */\n    OutputArea.prototype.register_mime_type(EXEC_MIME_TYPE, append_mime, {\n      /* Is output safe? */\n      safe: true,\n      /* Index of renderer in `output_area.display_order` */\n      index: 0\n    });\n  }\n\n  // register the mime type if in Jupyter Notebook environment and previously unregistered\n  if (root.Jupyter !== undefined) {\n    const events = require('base/js/events');\n    const OutputArea = require('notebook/js/outputarea').OutputArea;\n\n    if (OutputArea.prototype.mime_types().indexOf(EXEC_MIME_TYPE) == -1) {\n      register_renderer(events, OutputArea);\n    }\n  }\n  if (typeof (root._bokeh_timeout) === \"undefined\" || force === true) {\n    root._bokeh_timeout = Date.now() + 5000;\n    root._bokeh_failed_load = false;\n  }\n\n  const NB_LOAD_WARNING = {'data': {'text/html':\n     \"<div style='background-color: #fdd'>\\n\"+\n     \"<p>\\n\"+\n     \"BokehJS does not appear to have successfully loaded. If loading BokehJS from CDN, this \\n\"+\n     \"may be due to a slow or bad network connection. Possible fixes:\\n\"+\n     \"</p>\\n\"+\n     \"<ul>\\n\"+\n     \"<li>re-rerun `output_notebook()` to attempt to load from CDN again, or</li>\\n\"+\n     \"<li>use INLINE resources instead, as so:</li>\\n\"+\n     \"</ul>\\n\"+\n     \"<code>\\n\"+\n     \"from bokeh.resources import INLINE\\n\"+\n     \"output_notebook(resources=INLINE)\\n\"+\n     \"</code>\\n\"+\n     \"</div>\"}};\n\n  function display_loaded() {\n    const el = document.getElementById(\"1553\");\n    if (el != null) {\n      el.textContent = \"BokehJS is loading...\";\n    }\n    if (root.Bokeh !== undefined) {\n      if (el != null) {\n        el.textContent = \"BokehJS \" + root.Bokeh.version + \" successfully loaded.\";\n      }\n    } else if (Date.now() < root._bokeh_timeout) {\n      setTimeout(display_loaded, 100)\n    }\n  }\n\n  function run_callbacks() {\n    try {\n      root._bokeh_onload_callbacks.forEach(function(callback) {\n        if (callback != null)\n          callback();\n      });\n    } finally {\n      delete root._bokeh_onload_callbacks\n    }\n    console.debug(\"Bokeh: all callbacks have finished\");\n  }\n\n  function load_libs(css_urls, js_urls, callback) {\n    if (css_urls == null) css_urls = [];\n    if (js_urls == null) js_urls = [];\n\n    root._bokeh_onload_callbacks.push(callback);\n    if (root._bokeh_is_loading > 0) {\n      console.debug(\"Bokeh: BokehJS is being loaded, scheduling callback at\", now());\n      return null;\n    }\n    if (js_urls == null || js_urls.length === 0) {\n      run_callbacks();\n      return null;\n    }\n    console.debug(\"Bokeh: BokehJS not loaded, scheduling load and callback at\", now());\n    root._bokeh_is_loading = css_urls.length + js_urls.length;\n\n    function on_load() {\n      root._bokeh_is_loading--;\n      if (root._bokeh_is_loading === 0) {\n        console.debug(\"Bokeh: all BokehJS libraries/stylesheets loaded\");\n        run_callbacks()\n      }\n    }\n\n    function on_error(url) {\n      console.error(\"failed to load \" + url);\n    }\n\n    for (let i = 0; i < css_urls.length; i++) {\n      const url = css_urls[i];\n      const element = document.createElement(\"link\");\n      element.onload = on_load;\n      element.onerror = on_error.bind(null, url);\n      element.rel = \"stylesheet\";\n      element.type = \"text/css\";\n      element.href = url;\n      console.debug(\"Bokeh: injecting link tag for BokehJS stylesheet: \", url);\n      document.body.appendChild(element);\n    }\n\n    for (let i = 0; i < js_urls.length; i++) {\n      const url = js_urls[i];\n      const element = document.createElement('script');\n      element.onload = on_load;\n      element.onerror = on_error.bind(null, url);\n      element.async = false;\n      element.src = url;\n      console.debug(\"Bokeh: injecting script tag for BokehJS library: \", url);\n      document.head.appendChild(element);\n    }\n  };\n\n  function inject_raw_css(css) {\n    const element = document.createElement(\"style\");\n    element.appendChild(document.createTextNode(css));\n    document.body.appendChild(element);\n  }\n\n  const js_urls = [\"https://cdn.bokeh.org/bokeh/release/bokeh-2.4.3.min.js\", \"https://cdn.bokeh.org/bokeh/release/bokeh-gl-2.4.3.min.js\", \"https://cdn.bokeh.org/bokeh/release/bokeh-widgets-2.4.3.min.js\", \"https://cdn.bokeh.org/bokeh/release/bokeh-tables-2.4.3.min.js\", \"https://cdn.bokeh.org/bokeh/release/bokeh-mathjax-2.4.3.min.js\"];\n  const css_urls = [];\n\n  const inline_js = [    function(Bokeh) {\n      Bokeh.set_log_level(\"info\");\n    },\nfunction(Bokeh) {\n    }\n  ];\n\n  function run_inline_js() {\n    if (root.Bokeh !== undefined || force === true) {\n          for (let i = 0; i < inline_js.length; i++) {\n      inline_js[i].call(root, root.Bokeh);\n    }\nif (force === true) {\n        display_loaded();\n      }} else if (Date.now() < root._bokeh_timeout) {\n      setTimeout(run_inline_js, 100);\n    } else if (!root._bokeh_failed_load) {\n      console.log(\"Bokeh: BokehJS failed to load within specified timeout.\");\n      root._bokeh_failed_load = true;\n    } else if (force !== true) {\n      const cell = $(document.getElementById(\"1553\")).parents('.cell').data().cell;\n      cell.output_area.append_execute_result(NB_LOAD_WARNING)\n    }\n  }\n\n  if (root._bokeh_is_loading === 0) {\n    console.debug(\"Bokeh: BokehJS loaded, going straight to plotting\");\n    run_inline_js();\n  } else {\n    load_libs(css_urls, js_urls, function() {\n      console.debug(\"Bokeh: BokehJS plotting callback run at\", now());\n      run_inline_js();\n    });\n  }\n}(window));",
      "application/vnd.bokehjs_load.v0+json": ""
     },
     "metadata": {},
     "output_type": "display_data"
    }
   ],
   "source": [
    "output_notebook()"
   ]
  },
  {
   "cell_type": "code",
   "execution_count": 196,
   "metadata": {},
   "outputs": [],
   "source": [
    "path = os.path.join(os.path.expanduser('~'), \"git/bakery/bakery/data/config.json\")\n",
    "with open(path, \"rb\") as f:\n",
    "    config = json.loads(f.read().decode())\n",
    "client = MongoClient(config[\"mongo\"][\"conn_str\"])\n",
    "db = client[\"bakery\"]\n",
    "alpha_daily_active_ls_coll = db[\"alpha_daily_active_ls\"]"
   ]
  },
  {
   "cell_type": "code",
   "execution_count": 208,
   "metadata": {},
   "outputs": [
    {
     "data": {
      "text/html": [
       "<div>\n",
       "<style scoped>\n",
       "    .dataframe tbody tr th:only-of-type {\n",
       "        vertical-align: middle;\n",
       "    }\n",
       "\n",
       "    .dataframe tbody tr th {\n",
       "        vertical-align: top;\n",
       "    }\n",
       "\n",
       "    .dataframe thead th {\n",
       "        text-align: right;\n",
       "    }\n",
       "</style>\n",
       "<table border=\"1\" class=\"dataframe\">\n",
       "  <thead>\n",
       "    <tr style=\"text-align: right;\">\n",
       "      <th></th>\n",
       "      <th>dttm</th>\n",
       "      <th>_id</th>\n",
       "      <th>ls</th>\n",
       "    </tr>\n",
       "  </thead>\n",
       "  <tbody>\n",
       "    <tr>\n",
       "      <th>0</th>\n",
       "      <td>2016-01-28</td>\n",
       "      <td>65d2c4b59a0b11a2ecbb7e6e</td>\n",
       "      <td>[A, AAAP, AABA, AAC, AACG, AADR, AAIC, AAL, AA...</td>\n",
       "    </tr>\n",
       "    <tr>\n",
       "      <th>1</th>\n",
       "      <td>2016-01-29</td>\n",
       "      <td>65d2c4b59a0b11a2ecbb7e6d</td>\n",
       "      <td>[A, AAAP, AABA, AAC, AACG, AADR, AAIC, AAL, AA...</td>\n",
       "    </tr>\n",
       "    <tr>\n",
       "      <th>2</th>\n",
       "      <td>2016-01-30</td>\n",
       "      <td>65d2c4b29a0b11a2ecbb7e6c</td>\n",
       "      <td>[A, AAAP, AABA, AAC, AACG, AADR, AAIC, AAL, AA...</td>\n",
       "    </tr>\n",
       "    <tr>\n",
       "      <th>3</th>\n",
       "      <td>2016-01-31</td>\n",
       "      <td>65d2c4ad9a0b11a2ecbb7e6b</td>\n",
       "      <td>[A, AAAP, AABA, AAC, AACG, AADR, AAIC, AAL, AA...</td>\n",
       "    </tr>\n",
       "    <tr>\n",
       "      <th>4</th>\n",
       "      <td>2016-02-01</td>\n",
       "      <td>65d2c4a79a0b11a2ecbb7e6a</td>\n",
       "      <td>[A, AAAP, AABA, AAC, AACG, AADR, AAIC, AAL, AA...</td>\n",
       "    </tr>\n",
       "  </tbody>\n",
       "</table>\n",
       "</div>"
      ],
      "text/plain": [
       "        dttm                       _id  \\\n",
       "0 2016-01-28  65d2c4b59a0b11a2ecbb7e6e   \n",
       "1 2016-01-29  65d2c4b59a0b11a2ecbb7e6d   \n",
       "2 2016-01-30  65d2c4b29a0b11a2ecbb7e6c   \n",
       "3 2016-01-31  65d2c4ad9a0b11a2ecbb7e6b   \n",
       "4 2016-02-01  65d2c4a79a0b11a2ecbb7e6a   \n",
       "\n",
       "                                                  ls  \n",
       "0  [A, AAAP, AABA, AAC, AACG, AADR, AAIC, AAL, AA...  \n",
       "1  [A, AAAP, AABA, AAC, AACG, AADR, AAIC, AAL, AA...  \n",
       "2  [A, AAAP, AABA, AAC, AACG, AADR, AAIC, AAL, AA...  \n",
       "3  [A, AAAP, AABA, AAC, AACG, AADR, AAIC, AAL, AA...  \n",
       "4  [A, AAAP, AABA, AAC, AACG, AADR, AAIC, AAL, AA...  "
      ]
     },
     "execution_count": 208,
     "metadata": {},
     "output_type": "execute_result"
    }
   ],
   "source": [
    "cursor = alpha_daily_active_ls_coll.find({})\n",
    "df = pd.DataFrame(list(cursor))\n",
    "df.head()"
   ]
  },
  {
   "cell_type": "code",
   "execution_count": 209,
   "metadata": {},
   "outputs": [
    {
     "name": "stdout",
     "output_type": "stream",
     "text": [
      "<class 'pandas.core.frame.DataFrame'>\n",
      "RangeIndex: 2944 entries, 0 to 2943\n",
      "Data columns (total 3 columns):\n",
      " #   Column  Non-Null Count  Dtype         \n",
      "---  ------  --------------  -----         \n",
      " 0   dttm    2944 non-null   datetime64[ns]\n",
      " 1   _id     2944 non-null   object        \n",
      " 2   ls      2944 non-null   object        \n",
      "dtypes: datetime64[ns](1), object(2)\n",
      "memory usage: 69.1+ KB\n"
     ]
    }
   ],
   "source": [
    "df.info()"
   ]
  },
  {
   "cell_type": "code",
   "execution_count": 210,
   "metadata": {},
   "outputs": [
    {
     "name": "stdout",
     "output_type": "stream",
     "text": [
      "<class 'pandas.core.frame.DataFrame'>\n",
      "RangeIndex: 28811775 entries, 0 to 28811774\n",
      "Data columns (total 2 columns):\n",
      " #   Column  Dtype         \n",
      "---  ------  -----         \n",
      " 0   dttm    datetime64[ns]\n",
      " 1   symbol  object        \n",
      "dtypes: datetime64[ns](1), object(1)\n",
      "memory usage: 439.6+ MB\n"
     ]
    }
   ],
   "source": [
    "df_explode = df.drop(columns=\"_id\") \\\n",
    "    .explode(column=\"ls\") \\\n",
    "    .reset_index(drop=True) \\\n",
    "    .rename(columns={\"ls\": \"symbol\"})\n",
    "df_explode.info()"
   ]
  },
  {
   "cell_type": "code",
   "execution_count": 211,
   "metadata": {},
   "outputs": [
    {
     "name": "stdout",
     "output_type": "stream",
     "text": [
      "<class 'pandas.core.frame.DataFrame'>\n",
      "DatetimeIndex: 2944 entries, 2016-01-28 to 2024-02-18\n",
      "Columns: 18144 entries, -P-S to ZZZ\n",
      "dtypes: int64(18144)\n",
      "memory usage: 407.6 MB\n"
     ]
    }
   ],
   "source": [
    "df_pivot = df_explode \\\n",
    "    .pivot_table(index=\"dttm\", columns=\"symbol\", aggfunc=\"size\", fill_value=0) \\\n",
    "    .sort_values(by=\"dttm\")\n",
    "df_pivot.info()"
   ]
  },
  {
   "cell_type": "code",
   "execution_count": 230,
   "metadata": {},
   "outputs": [
    {
     "data": {
      "text/html": [
       "<div>\n",
       "<style scoped>\n",
       "    .dataframe tbody tr th:only-of-type {\n",
       "        vertical-align: middle;\n",
       "    }\n",
       "\n",
       "    .dataframe tbody tr th {\n",
       "        vertical-align: top;\n",
       "    }\n",
       "\n",
       "    .dataframe thead th {\n",
       "        text-align: right;\n",
       "    }\n",
       "</style>\n",
       "<table border=\"1\" class=\"dataframe\">\n",
       "  <thead>\n",
       "    <tr style=\"text-align: right;\">\n",
       "      <th>Symbol</th>\n",
       "      <th>-P-S</th>\n",
       "      <th>A</th>\n",
       "      <th>AA</th>\n",
       "      <th>AA-W</th>\n",
       "      <th>AAA</th>\n",
       "      <th>AAAP</th>\n",
       "      <th>AAAU</th>\n",
       "      <th>AABA</th>\n",
       "      <th>AAC</th>\n",
       "      <th>AAC-U</th>\n",
       "      <th>...</th>\n",
       "      <th>ZX</th>\n",
       "      <th>ZXYZ-A</th>\n",
       "      <th>ZXZZT</th>\n",
       "      <th>ZY</th>\n",
       "      <th>ZYME</th>\n",
       "      <th>ZYNE</th>\n",
       "      <th>ZYRX</th>\n",
       "      <th>ZYXI</th>\n",
       "      <th>ZZK</th>\n",
       "      <th>ZZZ</th>\n",
       "    </tr>\n",
       "    <tr>\n",
       "      <th>Date</th>\n",
       "      <th></th>\n",
       "      <th></th>\n",
       "      <th></th>\n",
       "      <th></th>\n",
       "      <th></th>\n",
       "      <th></th>\n",
       "      <th></th>\n",
       "      <th></th>\n",
       "      <th></th>\n",
       "      <th></th>\n",
       "      <th></th>\n",
       "      <th></th>\n",
       "      <th></th>\n",
       "      <th></th>\n",
       "      <th></th>\n",
       "      <th></th>\n",
       "      <th></th>\n",
       "      <th></th>\n",
       "      <th></th>\n",
       "      <th></th>\n",
       "      <th></th>\n",
       "    </tr>\n",
       "  </thead>\n",
       "  <tbody>\n",
       "    <tr>\n",
       "      <th>2016-01-28</th>\n",
       "      <td>0</td>\n",
       "      <td>1</td>\n",
       "      <td>0</td>\n",
       "      <td>0</td>\n",
       "      <td>0</td>\n",
       "      <td>1</td>\n",
       "      <td>0</td>\n",
       "      <td>1</td>\n",
       "      <td>1</td>\n",
       "      <td>0</td>\n",
       "      <td>...</td>\n",
       "      <td>1</td>\n",
       "      <td>1</td>\n",
       "      <td>1</td>\n",
       "      <td>0</td>\n",
       "      <td>0</td>\n",
       "      <td>1</td>\n",
       "      <td>1</td>\n",
       "      <td>1</td>\n",
       "      <td>0</td>\n",
       "      <td>1</td>\n",
       "    </tr>\n",
       "    <tr>\n",
       "      <th>2016-01-29</th>\n",
       "      <td>0</td>\n",
       "      <td>1</td>\n",
       "      <td>0</td>\n",
       "      <td>0</td>\n",
       "      <td>0</td>\n",
       "      <td>1</td>\n",
       "      <td>0</td>\n",
       "      <td>1</td>\n",
       "      <td>1</td>\n",
       "      <td>0</td>\n",
       "      <td>...</td>\n",
       "      <td>1</td>\n",
       "      <td>1</td>\n",
       "      <td>1</td>\n",
       "      <td>0</td>\n",
       "      <td>0</td>\n",
       "      <td>1</td>\n",
       "      <td>1</td>\n",
       "      <td>1</td>\n",
       "      <td>0</td>\n",
       "      <td>1</td>\n",
       "    </tr>\n",
       "    <tr>\n",
       "      <th>2016-01-30</th>\n",
       "      <td>0</td>\n",
       "      <td>1</td>\n",
       "      <td>0</td>\n",
       "      <td>0</td>\n",
       "      <td>0</td>\n",
       "      <td>1</td>\n",
       "      <td>0</td>\n",
       "      <td>1</td>\n",
       "      <td>1</td>\n",
       "      <td>0</td>\n",
       "      <td>...</td>\n",
       "      <td>1</td>\n",
       "      <td>1</td>\n",
       "      <td>1</td>\n",
       "      <td>0</td>\n",
       "      <td>0</td>\n",
       "      <td>1</td>\n",
       "      <td>1</td>\n",
       "      <td>1</td>\n",
       "      <td>0</td>\n",
       "      <td>1</td>\n",
       "    </tr>\n",
       "    <tr>\n",
       "      <th>2016-01-31</th>\n",
       "      <td>0</td>\n",
       "      <td>1</td>\n",
       "      <td>0</td>\n",
       "      <td>0</td>\n",
       "      <td>0</td>\n",
       "      <td>1</td>\n",
       "      <td>0</td>\n",
       "      <td>1</td>\n",
       "      <td>1</td>\n",
       "      <td>0</td>\n",
       "      <td>...</td>\n",
       "      <td>1</td>\n",
       "      <td>1</td>\n",
       "      <td>1</td>\n",
       "      <td>0</td>\n",
       "      <td>0</td>\n",
       "      <td>1</td>\n",
       "      <td>1</td>\n",
       "      <td>1</td>\n",
       "      <td>0</td>\n",
       "      <td>1</td>\n",
       "    </tr>\n",
       "    <tr>\n",
       "      <th>2016-02-01</th>\n",
       "      <td>0</td>\n",
       "      <td>1</td>\n",
       "      <td>0</td>\n",
       "      <td>0</td>\n",
       "      <td>0</td>\n",
       "      <td>1</td>\n",
       "      <td>0</td>\n",
       "      <td>1</td>\n",
       "      <td>1</td>\n",
       "      <td>0</td>\n",
       "      <td>...</td>\n",
       "      <td>1</td>\n",
       "      <td>1</td>\n",
       "      <td>1</td>\n",
       "      <td>0</td>\n",
       "      <td>0</td>\n",
       "      <td>1</td>\n",
       "      <td>1</td>\n",
       "      <td>1</td>\n",
       "      <td>0</td>\n",
       "      <td>1</td>\n",
       "    </tr>\n",
       "  </tbody>\n",
       "</table>\n",
       "<p>5 rows × 18144 columns</p>\n",
       "</div>"
      ],
      "text/plain": [
       "Symbol      -P-S  A  AA  AA-W  AAA  AAAP  AAAU  AABA  AAC  AAC-U  ...  ZX  \\\n",
       "Date                                                              ...       \n",
       "2016-01-28     0  1   0     0    0     1     0     1    1      0  ...   1   \n",
       "2016-01-29     0  1   0     0    0     1     0     1    1      0  ...   1   \n",
       "2016-01-30     0  1   0     0    0     1     0     1    1      0  ...   1   \n",
       "2016-01-31     0  1   0     0    0     1     0     1    1      0  ...   1   \n",
       "2016-02-01     0  1   0     0    0     1     0     1    1      0  ...   1   \n",
       "\n",
       "Symbol      ZXYZ-A  ZXZZT  ZY  ZYME  ZYNE  ZYRX  ZYXI  ZZK  ZZZ  \n",
       "Date                                                             \n",
       "2016-01-28       1      1   0     0     1     1     1    0    1  \n",
       "2016-01-29       1      1   0     0     1     1     1    0    1  \n",
       "2016-01-30       1      1   0     0     1     1     1    0    1  \n",
       "2016-01-31       1      1   0     0     1     1     1    0    1  \n",
       "2016-02-01       1      1   0     0     1     1     1    0    1  \n",
       "\n",
       "[5 rows x 18144 columns]"
      ]
     },
     "execution_count": 230,
     "metadata": {},
     "output_type": "execute_result"
    }
   ],
   "source": [
    "# df_pivot.index = df_pivot.index.to_pydatetime()\n",
    "df_pivot.index.names = [\"Date\"]\n",
    "df_pivot.columns.name = \"Symbol\"\n",
    "df_pivot.head()"
   ]
  },
  {
   "cell_type": "code",
   "execution_count": 236,
   "metadata": {},
   "outputs": [],
   "source": [
    "dates = list([dt.strftime(\"%m/%d/%Y\") for dt in df_pivot.index])\n",
    "symbols = list(df_pivot.columns)"
   ]
  },
  {
   "cell_type": "code",
   "execution_count": 237,
   "metadata": {},
   "outputs": [
    {
     "data": {
      "text/html": [
       "<div>\n",
       "<style scoped>\n",
       "    .dataframe tbody tr th:only-of-type {\n",
       "        vertical-align: middle;\n",
       "    }\n",
       "\n",
       "    .dataframe tbody tr th {\n",
       "        vertical-align: top;\n",
       "    }\n",
       "\n",
       "    .dataframe thead th {\n",
       "        text-align: right;\n",
       "    }\n",
       "</style>\n",
       "<table border=\"1\" class=\"dataframe\">\n",
       "  <thead>\n",
       "    <tr style=\"text-align: right;\">\n",
       "      <th></th>\n",
       "      <th>Date</th>\n",
       "      <th>Symbol</th>\n",
       "      <th>active</th>\n",
       "    </tr>\n",
       "  </thead>\n",
       "  <tbody>\n",
       "    <tr>\n",
       "      <th>0</th>\n",
       "      <td>2016-01-28</td>\n",
       "      <td>-P-S</td>\n",
       "      <td>0</td>\n",
       "    </tr>\n",
       "    <tr>\n",
       "      <th>1</th>\n",
       "      <td>2016-01-28</td>\n",
       "      <td>A</td>\n",
       "      <td>1</td>\n",
       "    </tr>\n",
       "    <tr>\n",
       "      <th>2</th>\n",
       "      <td>2016-01-28</td>\n",
       "      <td>AA</td>\n",
       "      <td>0</td>\n",
       "    </tr>\n",
       "    <tr>\n",
       "      <th>3</th>\n",
       "      <td>2016-01-28</td>\n",
       "      <td>AA-W</td>\n",
       "      <td>0</td>\n",
       "    </tr>\n",
       "    <tr>\n",
       "      <th>4</th>\n",
       "      <td>2016-01-28</td>\n",
       "      <td>AAA</td>\n",
       "      <td>0</td>\n",
       "    </tr>\n",
       "  </tbody>\n",
       "</table>\n",
       "</div>"
      ],
      "text/plain": [
       "        Date Symbol  active\n",
       "0 2016-01-28   -P-S       0\n",
       "1 2016-01-28      A       1\n",
       "2 2016-01-28     AA       0\n",
       "3 2016-01-28   AA-W       0\n",
       "4 2016-01-28    AAA       0"
      ]
     },
     "execution_count": 237,
     "metadata": {},
     "output_type": "execute_result"
    }
   ],
   "source": [
    "df = pd.DataFrame(df_pivot.stack(), columns=[\"active\"]).reset_index()\n",
    "df.head()"
   ]
  },
  {
   "cell_type": "code",
   "execution_count": 238,
   "metadata": {},
   "outputs": [
    {
     "ename": "AttributeError",
     "evalue": "unexpected attribute 'format' to DatetimeTickFormatter, possible attributes are days, hourmin, hours, js_event_callbacks, js_property_callbacks, microseconds, milliseconds, minsec, minutes, months, name, seconds, subscribed_events, syncable, tags or years",
     "output_type": "error",
     "traceback": [
      "\u001b[0;31m---------------------------------------------------------------------------\u001b[0m",
      "\u001b[0;31mAttributeError\u001b[0m                            Traceback (most recent call last)",
      "\u001b[1;32m/Users/markeidsaune/git/bakery/bakery/test.ipynb Cell 24\u001b[0m line \u001b[0;36m2\n\u001b[1;32m     <a href='vscode-notebook-cell:/Users/markeidsaune/git/bakery/bakery/test.ipynb#Y105sZmlsZQ%3D%3D?line=17'>18</a>\u001b[0m p\u001b[39m.\u001b[39maxis\u001b[39m.\u001b[39mmajor_label_text_font_size \u001b[39m=\u001b[39m \u001b[39m\"\u001b[39m\u001b[39m4px\u001b[39m\u001b[39m\"\u001b[39m\n\u001b[1;32m     <a href='vscode-notebook-cell:/Users/markeidsaune/git/bakery/bakery/test.ipynb#Y105sZmlsZQ%3D%3D?line=18'>19</a>\u001b[0m p\u001b[39m.\u001b[39maxis\u001b[39m.\u001b[39mmajor_label_standoff \u001b[39m=\u001b[39m \u001b[39m0\u001b[39m\n\u001b[0;32m---> <a href='vscode-notebook-cell:/Users/markeidsaune/git/bakery/bakery/test.ipynb#Y105sZmlsZQ%3D%3D?line=19'>20</a>\u001b[0m p\u001b[39m.\u001b[39mxaxis\u001b[39m.\u001b[39mformatter \u001b[39m=\u001b[39m DatetimeTickFormatter(\u001b[39mformat\u001b[39;49m\u001b[39m=\u001b[39;49m\u001b[39m\"\u001b[39;49m\u001b[39m%\u001b[39;49m\u001b[39mm/\u001b[39;49m\u001b[39m%\u001b[39;49m\u001b[39mY\u001b[39;49m\u001b[39m\"\u001b[39;49m)\n\u001b[1;32m     <a href='vscode-notebook-cell:/Users/markeidsaune/git/bakery/bakery/test.ipynb#Y105sZmlsZQ%3D%3D?line=20'>21</a>\u001b[0m p\u001b[39m.\u001b[39mxaxis\u001b[39m.\u001b[39mmajor_label_orientation \u001b[39m=\u001b[39m \u001b[39m3.14\u001b[39m \u001b[39m/\u001b[39m \u001b[39m3\u001b[39m\n\u001b[1;32m     <a href='vscode-notebook-cell:/Users/markeidsaune/git/bakery/bakery/test.ipynb#Y105sZmlsZQ%3D%3D?line=23'>24</a>\u001b[0m p\u001b[39m.\u001b[39mrect(x\u001b[39m=\u001b[39m\u001b[39m\"\u001b[39m\u001b[39mDate\u001b[39m\u001b[39m\"\u001b[39m, y\u001b[39m=\u001b[39m\u001b[39m\"\u001b[39m\u001b[39mSymbol\u001b[39m\u001b[39m\"\u001b[39m, width\u001b[39m=\u001b[39m\u001b[39m1\u001b[39m, height\u001b[39m=\u001b[39m\u001b[39m1\u001b[39m,\n\u001b[1;32m     <a href='vscode-notebook-cell:/Users/markeidsaune/git/bakery/bakery/test.ipynb#Y105sZmlsZQ%3D%3D?line=24'>25</a>\u001b[0m        source\u001b[39m=\u001b[39mdf,\n\u001b[1;32m     <a href='vscode-notebook-cell:/Users/markeidsaune/git/bakery/bakery/test.ipynb#Y105sZmlsZQ%3D%3D?line=25'>26</a>\u001b[0m        fill_color\u001b[39m=\u001b[39m{\u001b[39m\"\u001b[39m\u001b[39mfield\u001b[39m\u001b[39m\"\u001b[39m: \u001b[39m\"\u001b[39m\u001b[39mactive\u001b[39m\u001b[39m\"\u001b[39m, \u001b[39m\"\u001b[39m\u001b[39mtransform\u001b[39m\u001b[39m\"\u001b[39m: mapper},\n\u001b[1;32m     <a href='vscode-notebook-cell:/Users/markeidsaune/git/bakery/bakery/test.ipynb#Y105sZmlsZQ%3D%3D?line=26'>27</a>\u001b[0m        line_color\u001b[39m=\u001b[39m\u001b[39mNone\u001b[39;00m)\n",
      "File \u001b[0;32m~/git/bakery/.venv/lib/python3.12/site-packages/bokeh/model/model.py:128\u001b[0m, in \u001b[0;36mModel.__init__\u001b[0;34m(self, **kwargs)\u001b[0m\n\u001b[1;32m    121\u001b[0m \u001b[39mdef\u001b[39;00m \u001b[39m__init__\u001b[39m(\u001b[39mself\u001b[39m, \u001b[39m*\u001b[39m\u001b[39m*\u001b[39mkwargs: Any) \u001b[39m-\u001b[39m\u001b[39m>\u001b[39m \u001b[39mNone\u001b[39;00m:\n\u001b[1;32m    122\u001b[0m \n\u001b[1;32m    123\u001b[0m     \u001b[39m# \"id\" is popped from **kw in __new__, so in an ideal world I don't\u001b[39;00m\n\u001b[1;32m    124\u001b[0m     \u001b[39m# think it should be here too. But Python has subtle behavior here, so\u001b[39;00m\n\u001b[1;32m    125\u001b[0m     \u001b[39m# it is necessary\u001b[39;00m\n\u001b[1;32m    126\u001b[0m     kwargs\u001b[39m.\u001b[39mpop(\u001b[39m\"\u001b[39m\u001b[39mid\u001b[39m\u001b[39m\"\u001b[39m, \u001b[39mNone\u001b[39;00m)\n\u001b[0;32m--> 128\u001b[0m     \u001b[39msuper\u001b[39;49m()\u001b[39m.\u001b[39;49m\u001b[39m__init__\u001b[39;49m(\u001b[39m*\u001b[39;49m\u001b[39m*\u001b[39;49mkwargs)\n\u001b[1;32m    129\u001b[0m     default_theme\u001b[39m.\u001b[39mapply_to_model(\u001b[39mself\u001b[39m)\n",
      "File \u001b[0;32m~/git/bakery/.venv/lib/python3.12/site-packages/bokeh/core/has_props.py:206\u001b[0m, in \u001b[0;36mHasProps.__init__\u001b[0;34m(self, **properties)\u001b[0m\n\u001b[1;32m    203\u001b[0m \u001b[39mself\u001b[39m\u001b[39m.\u001b[39m_unstable_themed_values \u001b[39m=\u001b[39m {}\n\u001b[1;32m    205\u001b[0m \u001b[39mfor\u001b[39;00m name, value \u001b[39min\u001b[39;00m properties\u001b[39m.\u001b[39mitems():\n\u001b[0;32m--> 206\u001b[0m     \u001b[39msetattr\u001b[39;49m(\u001b[39mself\u001b[39;49m, name, value)\n\u001b[1;32m    208\u001b[0m \u001b[39mself\u001b[39m\u001b[39m.\u001b[39m_initialized \u001b[39m=\u001b[39m \u001b[39mTrue\u001b[39;00m\n",
      "File \u001b[0;32m~/git/bakery/.venv/lib/python3.12/site-packages/bokeh/core/has_props.py:236\u001b[0m, in \u001b[0;36mHasProps.__setattr__\u001b[0;34m(self, name, value)\u001b[0m\n\u001b[1;32m    233\u001b[0m \u001b[39mif\u001b[39;00m \u001b[39misinstance\u001b[39m(descriptor, \u001b[39mproperty\u001b[39m): \u001b[39m# Python property\u001b[39;00m\n\u001b[1;32m    234\u001b[0m     \u001b[39mreturn\u001b[39;00m \u001b[39msuper\u001b[39m()\u001b[39m.\u001b[39m\u001b[39m__setattr__\u001b[39m(name, value)\n\u001b[0;32m--> 236\u001b[0m \u001b[39mself\u001b[39;49m\u001b[39m.\u001b[39;49m_raise_attribute_error_with_matches(name, properties)\n",
      "File \u001b[0;32m~/git/bakery/.venv/lib/python3.12/site-packages/bokeh/core/has_props.py:272\u001b[0m, in \u001b[0;36mHasProps._raise_attribute_error_with_matches\u001b[0;34m(self, name, properties)\u001b[0m\n\u001b[1;32m    269\u001b[0m \u001b[39mif\u001b[39;00m \u001b[39mnot\u001b[39;00m matches:\n\u001b[1;32m    270\u001b[0m     matches, text \u001b[39m=\u001b[39m \u001b[39msorted\u001b[39m(properties), \u001b[39m\"\u001b[39m\u001b[39mpossible\u001b[39m\u001b[39m\"\u001b[39m\n\u001b[0;32m--> 272\u001b[0m \u001b[39mraise\u001b[39;00m \u001b[39mAttributeError\u001b[39;00m(\u001b[39mf\u001b[39m\u001b[39m\"\u001b[39m\u001b[39munexpected attribute \u001b[39m\u001b[39m{\u001b[39;00mname\u001b[39m!r}\u001b[39;00m\u001b[39m to \u001b[39m\u001b[39m{\u001b[39;00m\u001b[39mself\u001b[39m\u001b[39m.\u001b[39m\u001b[39m__class__\u001b[39m\u001b[39m.\u001b[39m\u001b[39m__name__\u001b[39m\u001b[39m}\u001b[39;00m\u001b[39m, \u001b[39m\u001b[39m{\u001b[39;00mtext\u001b[39m}\u001b[39;00m\u001b[39m attributes are \u001b[39m\u001b[39m{\u001b[39;00mnice_join(matches)\u001b[39m}\u001b[39;00m\u001b[39m\"\u001b[39m)\n",
      "\u001b[0;31mAttributeError\u001b[0m: unexpected attribute 'format' to DatetimeTickFormatter, possible attributes are days, hourmin, hours, js_event_callbacks, js_property_callbacks, microseconds, milliseconds, minsec, minutes, months, name, seconds, subscribed_events, syncable, tags or years"
     ]
    }
   ],
   "source": [
    "source = ColumnDataSource(data=df)\n",
    "\n",
    "colors = [\"#bcbd22\", \"#ff9896\"]\n",
    "mapper = LinearColorMapper(palette=colors, low=0, high=1)\n",
    "\n",
    "TOOLS = \"hover,save,pan,box_zoom,reset,wheel_zoom\"\n",
    "\n",
    "p = figure(title=\"Active Equities Heatmap\",\n",
    "           x_axis_type=\"datetime\",\n",
    "           x_range=dates, y_range=symbols,\n",
    "           x_axis_location=\"above\", width=900, height=700,\n",
    "           tools=TOOLS, toolbar_location=\"below\",\n",
    "           tooltips=[(\"date\", \"@Symbol @Date\"), (\"active\", \"@active\")])\n",
    "\n",
    "p.grid.grid_line_color = None\n",
    "p.axis.axis_line_color = None\n",
    "p.axis.major_tick_line_color = None\n",
    "p.axis.major_label_text_font_size = \"4px\"\n",
    "p.axis.major_label_standoff = 0\n",
    "p.xaxis.formatter = DatetimeTickFormatter(years=\"%Y\", months=\"%m/%Y\", days=\"%d/%m/%Y\")\n",
    "p.xaxis.major_label_orientation = 3.14 / 3\n",
    "\n",
    "\n",
    "p.rect(x=\"Date\", y=\"Symbol\", width=1, height=1,\n",
    "       source=df,\n",
    "       fill_color={\"field\": \"active\", \"transform\": mapper},\n",
    "       line_color=None)\n",
    "\n",
    "color_bar = ColorBar(color_mapper=mapper, major_label_text_font_size=\"4px\",\n",
    "                     ticker=BasicTicker(desired_num_ticks=2),\n",
    "                     label_standoff=6, border_line_color=None)\n",
    "p.add_layout(color_bar, \"right\")"
   ]
  },
  {
   "cell_type": "code",
   "execution_count": null,
   "metadata": {},
   "outputs": [],
   "source": [
    "show(p)"
   ]
  },
  {
   "cell_type": "markdown",
   "metadata": {},
   "source": [
    "### Dash tests"
   ]
  },
  {
   "cell_type": "code",
   "execution_count": 5,
   "metadata": {},
   "outputs": [],
   "source": [
    "# import os\n",
    "# import json\n",
    "# import streamlit as st\n",
    "# from pymongo import MongoClient\n",
    "# import pandas as pd\n",
    "\n",
    "# path = os.path.join(os.path.expanduser('~'), \"git/bakery/bakery/data/config.json\")\n",
    "\n",
    "# with open(path, \"rb\") as f:\n",
    "#     config = json.loads(f.read().decode())\n",
    "\n",
    "# client = MongoClient(config[\"mongo\"][\"conn_str\"])\n",
    "# db = client[\"bakery\"]\n",
    "# coll = db[\"alpha_daily\"]\n",
    "\n",
    "# query = {\"symbol\": \"TSLA\"}\n",
    "# df = pd.DataFrame(list(coll.find(query)))\n",
    "\n",
    "# print(df.head(25))"
   ]
  },
  {
   "cell_type": "code",
   "execution_count": null,
   "metadata": {},
   "outputs": [],
   "source": []
  }
 ],
 "metadata": {
  "kernelspec": {
   "display_name": ".venv",
   "language": "python",
   "name": "python3"
  },
  "language_info": {
   "codemirror_mode": {
    "name": "ipython",
    "version": 3
   },
   "file_extension": ".py",
   "mimetype": "text/x-python",
   "name": "python",
   "nbconvert_exporter": "python",
   "pygments_lexer": "ipython3",
   "version": "3.12.0"
  }
 },
 "nbformat": 4,
 "nbformat_minor": 2
}
